{
 "cells": [
  {
   "cell_type": "code",
   "execution_count": 1,
   "id": "91063eea",
   "metadata": {},
   "outputs": [],
   "source": [
    "#importing libraries\n",
    "\n",
    "import numpy as np\n",
    "import pandas as pd\n",
    "import re\n",
    "import nltk\n",
    "from nltk.corpus import stopwords\n",
    "from nltk.stem.porter import PorterStemmer\n",
    "import string\n",
    "import seaborn as sns\n",
    "import matplotlib.pyplot as plt"
   ]
  },
  {
   "cell_type": "code",
   "execution_count": 2,
   "id": "03e41191",
   "metadata": {},
   "outputs": [],
   "source": [
    "#loading the data\n",
    "\n",
    "df = pd.read_csv(\"/Users/HP/Desktop/spam2.csv\")"
   ]
  },
  {
   "cell_type": "markdown",
   "id": "f21df30e",
   "metadata": {},
   "source": [
    "# Visualization of the dataset"
   ]
  },
  {
   "cell_type": "code",
   "execution_count": 3,
   "id": "4d98d4d1",
   "metadata": {},
   "outputs": [
    {
     "data": {
      "text/html": [
       "<div>\n",
       "<style scoped>\n",
       "    .dataframe tbody tr th:only-of-type {\n",
       "        vertical-align: middle;\n",
       "    }\n",
       "\n",
       "    .dataframe tbody tr th {\n",
       "        vertical-align: top;\n",
       "    }\n",
       "\n",
       "    .dataframe thead th {\n",
       "        text-align: right;\n",
       "    }\n",
       "</style>\n",
       "<table border=\"1\" class=\"dataframe\">\n",
       "  <thead>\n",
       "    <tr style=\"text-align: right;\">\n",
       "      <th></th>\n",
       "      <th>v1</th>\n",
       "      <th>v2</th>\n",
       "      <th>Unnamed: 2</th>\n",
       "      <th>Unnamed: 3</th>\n",
       "      <th>Unnamed: 4</th>\n",
       "    </tr>\n",
       "  </thead>\n",
       "  <tbody>\n",
       "    <tr>\n",
       "      <th>0</th>\n",
       "      <td>ham</td>\n",
       "      <td>Go until jurong point, crazy.. Available only ...</td>\n",
       "      <td>NaN</td>\n",
       "      <td>NaN</td>\n",
       "      <td>NaN</td>\n",
       "    </tr>\n",
       "    <tr>\n",
       "      <th>1</th>\n",
       "      <td>ham</td>\n",
       "      <td>Ok lar... Joking wif u oni...</td>\n",
       "      <td>NaN</td>\n",
       "      <td>NaN</td>\n",
       "      <td>NaN</td>\n",
       "    </tr>\n",
       "    <tr>\n",
       "      <th>2</th>\n",
       "      <td>spam</td>\n",
       "      <td>Free entry in 2 a wkly comp to win FA Cup fina...</td>\n",
       "      <td>NaN</td>\n",
       "      <td>NaN</td>\n",
       "      <td>NaN</td>\n",
       "    </tr>\n",
       "    <tr>\n",
       "      <th>3</th>\n",
       "      <td>ham</td>\n",
       "      <td>U dun say so early hor... U c already then say...</td>\n",
       "      <td>NaN</td>\n",
       "      <td>NaN</td>\n",
       "      <td>NaN</td>\n",
       "    </tr>\n",
       "    <tr>\n",
       "      <th>4</th>\n",
       "      <td>ham</td>\n",
       "      <td>Nah I don't think he goes to usf, he lives aro...</td>\n",
       "      <td>NaN</td>\n",
       "      <td>NaN</td>\n",
       "      <td>NaN</td>\n",
       "    </tr>\n",
       "  </tbody>\n",
       "</table>\n",
       "</div>"
      ],
      "text/plain": [
       "     v1                                                 v2 Unnamed: 2  \\\n",
       "0   ham  Go until jurong point, crazy.. Available only ...        NaN   \n",
       "1   ham                      Ok lar... Joking wif u oni...        NaN   \n",
       "2  spam  Free entry in 2 a wkly comp to win FA Cup fina...        NaN   \n",
       "3   ham  U dun say so early hor... U c already then say...        NaN   \n",
       "4   ham  Nah I don't think he goes to usf, he lives aro...        NaN   \n",
       "\n",
       "  Unnamed: 3 Unnamed: 4  \n",
       "0        NaN        NaN  \n",
       "1        NaN        NaN  \n",
       "2        NaN        NaN  \n",
       "3        NaN        NaN  \n",
       "4        NaN        NaN  "
      ]
     },
     "execution_count": 3,
     "metadata": {},
     "output_type": "execute_result"
    }
   ],
   "source": [
    "df.head()"
   ]
  },
  {
   "cell_type": "code",
   "execution_count": 4,
   "id": "2bc0ddb4",
   "metadata": {},
   "outputs": [],
   "source": [
    "df.drop(['Unnamed: 2','Unnamed: 3','Unnamed: 4'],axis=1,inplace=True)"
   ]
  },
  {
   "cell_type": "code",
   "execution_count": 5,
   "id": "7aea8785",
   "metadata": {},
   "outputs": [
    {
     "data": {
      "text/html": [
       "<div>\n",
       "<style scoped>\n",
       "    .dataframe tbody tr th:only-of-type {\n",
       "        vertical-align: middle;\n",
       "    }\n",
       "\n",
       "    .dataframe tbody tr th {\n",
       "        vertical-align: top;\n",
       "    }\n",
       "\n",
       "    .dataframe thead th {\n",
       "        text-align: right;\n",
       "    }\n",
       "</style>\n",
       "<table border=\"1\" class=\"dataframe\">\n",
       "  <thead>\n",
       "    <tr style=\"text-align: right;\">\n",
       "      <th></th>\n",
       "      <th>v1</th>\n",
       "      <th>v2</th>\n",
       "    </tr>\n",
       "  </thead>\n",
       "  <tbody>\n",
       "    <tr>\n",
       "      <th>0</th>\n",
       "      <td>ham</td>\n",
       "      <td>Go until jurong point, crazy.. Available only ...</td>\n",
       "    </tr>\n",
       "    <tr>\n",
       "      <th>1</th>\n",
       "      <td>ham</td>\n",
       "      <td>Ok lar... Joking wif u oni...</td>\n",
       "    </tr>\n",
       "    <tr>\n",
       "      <th>2</th>\n",
       "      <td>spam</td>\n",
       "      <td>Free entry in 2 a wkly comp to win FA Cup fina...</td>\n",
       "    </tr>\n",
       "    <tr>\n",
       "      <th>3</th>\n",
       "      <td>ham</td>\n",
       "      <td>U dun say so early hor... U c already then say...</td>\n",
       "    </tr>\n",
       "    <tr>\n",
       "      <th>4</th>\n",
       "      <td>ham</td>\n",
       "      <td>Nah I don't think he goes to usf, he lives aro...</td>\n",
       "    </tr>\n",
       "  </tbody>\n",
       "</table>\n",
       "</div>"
      ],
      "text/plain": [
       "     v1                                                 v2\n",
       "0   ham  Go until jurong point, crazy.. Available only ...\n",
       "1   ham                      Ok lar... Joking wif u oni...\n",
       "2  spam  Free entry in 2 a wkly comp to win FA Cup fina...\n",
       "3   ham  U dun say so early hor... U c already then say...\n",
       "4   ham  Nah I don't think he goes to usf, he lives aro..."
      ]
     },
     "execution_count": 5,
     "metadata": {},
     "output_type": "execute_result"
    }
   ],
   "source": [
    "df.head()"
   ]
  },
  {
   "cell_type": "code",
   "execution_count": 6,
   "id": "6a1ef83e",
   "metadata": {},
   "outputs": [
    {
     "data": {
      "text/plain": [
       "(5572, 2)"
      ]
     },
     "execution_count": 6,
     "metadata": {},
     "output_type": "execute_result"
    }
   ],
   "source": [
    "df.shape"
   ]
  },
  {
   "cell_type": "code",
   "execution_count": 7,
   "id": "1df31c3d",
   "metadata": {},
   "outputs": [
    {
     "data": {
      "text/plain": [
       "Index(['v1', 'v2'], dtype='object')"
      ]
     },
     "execution_count": 7,
     "metadata": {},
     "output_type": "execute_result"
    }
   ],
   "source": [
    "#getting the columns names\n",
    "\n",
    "df.columns"
   ]
  },
  {
   "cell_type": "code",
   "execution_count": 8,
   "id": "46c4cd41",
   "metadata": {},
   "outputs": [],
   "source": [
    "df.rename(columns = {\"v1\": \"label\", \"v2\": \"text\"}, inplace = True)"
   ]
  },
  {
   "cell_type": "code",
   "execution_count": 9,
   "id": "4796d248",
   "metadata": {},
   "outputs": [
    {
     "data": {
      "text/plain": [
       "Index(['label', 'text'], dtype='object')"
      ]
     },
     "execution_count": 9,
     "metadata": {},
     "output_type": "execute_result"
    }
   ],
   "source": [
    "#recheck that column names has changed\n",
    "df.columns"
   ]
  },
  {
   "cell_type": "code",
   "execution_count": 10,
   "id": "fd0d1b07",
   "metadata": {},
   "outputs": [
    {
     "data": {
      "text/html": [
       "<div>\n",
       "<style scoped>\n",
       "    .dataframe tbody tr th:only-of-type {\n",
       "        vertical-align: middle;\n",
       "    }\n",
       "\n",
       "    .dataframe tbody tr th {\n",
       "        vertical-align: top;\n",
       "    }\n",
       "\n",
       "    .dataframe thead tr th {\n",
       "        text-align: left;\n",
       "    }\n",
       "\n",
       "    .dataframe thead tr:last-of-type th {\n",
       "        text-align: right;\n",
       "    }\n",
       "</style>\n",
       "<table border=\"1\" class=\"dataframe\">\n",
       "  <thead>\n",
       "    <tr>\n",
       "      <th></th>\n",
       "      <th colspan=\"4\" halign=\"left\">text</th>\n",
       "    </tr>\n",
       "    <tr>\n",
       "      <th></th>\n",
       "      <th>count</th>\n",
       "      <th>unique</th>\n",
       "      <th>top</th>\n",
       "      <th>freq</th>\n",
       "    </tr>\n",
       "    <tr>\n",
       "      <th>label</th>\n",
       "      <th></th>\n",
       "      <th></th>\n",
       "      <th></th>\n",
       "      <th></th>\n",
       "    </tr>\n",
       "  </thead>\n",
       "  <tbody>\n",
       "    <tr>\n",
       "      <th>ham</th>\n",
       "      <td>4825</td>\n",
       "      <td>4516</td>\n",
       "      <td>Sorry, I'll call later</td>\n",
       "      <td>30</td>\n",
       "    </tr>\n",
       "    <tr>\n",
       "      <th>spam</th>\n",
       "      <td>747</td>\n",
       "      <td>653</td>\n",
       "      <td>Please call our customer service representativ...</td>\n",
       "      <td>4</td>\n",
       "    </tr>\n",
       "  </tbody>\n",
       "</table>\n",
       "</div>"
      ],
      "text/plain": [
       "       text                                                               \n",
       "      count unique                                                top freq\n",
       "label                                                                     \n",
       "ham    4825   4516                             Sorry, I'll call later   30\n",
       "spam    747    653  Please call our customer service representativ...    4"
      ]
     },
     "execution_count": 10,
     "metadata": {},
     "output_type": "execute_result"
    }
   ],
   "source": [
    "df.groupby('label').describe()"
   ]
  },
  {
   "cell_type": "code",
   "execution_count": 11,
   "id": "7c58502d",
   "metadata": {},
   "outputs": [
    {
     "data": {
      "text/plain": [
       "label    0\n",
       "text     0\n",
       "dtype: int64"
      ]
     },
     "execution_count": 11,
     "metadata": {},
     "output_type": "execute_result"
    }
   ],
   "source": [
    "df.isnull().sum()"
   ]
  },
  {
   "cell_type": "code",
   "execution_count": 13,
   "id": "75cf3b5b",
   "metadata": {},
   "outputs": [
    {
     "data": {
      "text/html": [
       "<div>\n",
       "<style scoped>\n",
       "    .dataframe tbody tr th:only-of-type {\n",
       "        vertical-align: middle;\n",
       "    }\n",
       "\n",
       "    .dataframe tbody tr th {\n",
       "        vertical-align: top;\n",
       "    }\n",
       "\n",
       "    .dataframe thead th {\n",
       "        text-align: right;\n",
       "    }\n",
       "</style>\n",
       "<table border=\"1\" class=\"dataframe\">\n",
       "  <thead>\n",
       "    <tr style=\"text-align: right;\">\n",
       "      <th></th>\n",
       "      <th>label</th>\n",
       "      <th>text</th>\n",
       "      <th>Spam</th>\n",
       "    </tr>\n",
       "  </thead>\n",
       "  <tbody>\n",
       "    <tr>\n",
       "      <th>0</th>\n",
       "      <td>ham</td>\n",
       "      <td>Go until jurong point, crazy.. Available only ...</td>\n",
       "      <td>0</td>\n",
       "    </tr>\n",
       "    <tr>\n",
       "      <th>1</th>\n",
       "      <td>ham</td>\n",
       "      <td>Ok lar... Joking wif u oni...</td>\n",
       "      <td>0</td>\n",
       "    </tr>\n",
       "    <tr>\n",
       "      <th>2</th>\n",
       "      <td>spam</td>\n",
       "      <td>Free entry in 2 a wkly comp to win FA Cup fina...</td>\n",
       "      <td>1</td>\n",
       "    </tr>\n",
       "    <tr>\n",
       "      <th>3</th>\n",
       "      <td>ham</td>\n",
       "      <td>U dun say so early hor... U c already then say...</td>\n",
       "      <td>0</td>\n",
       "    </tr>\n",
       "    <tr>\n",
       "      <th>4</th>\n",
       "      <td>ham</td>\n",
       "      <td>Nah I don't think he goes to usf, he lives aro...</td>\n",
       "      <td>0</td>\n",
       "    </tr>\n",
       "  </tbody>\n",
       "</table>\n",
       "</div>"
      ],
      "text/plain": [
       "  label                                               text  Spam\n",
       "0   ham  Go until jurong point, crazy.. Available only ...     0\n",
       "1   ham                      Ok lar... Joking wif u oni...     0\n",
       "2  spam  Free entry in 2 a wkly comp to win FA Cup fina...     1\n",
       "3   ham  U dun say so early hor... U c already then say...     0\n",
       "4   ham  Nah I don't think he goes to usf, he lives aro...     0"
      ]
     },
     "execution_count": 13,
     "metadata": {},
     "output_type": "execute_result"
    }
   ],
   "source": [
    "df['Spam']=df['label'].apply(lambda x:1 if x=='spam' else 0)\n",
    "df.head(5)"
   ]
  },
  {
   "cell_type": "code",
   "execution_count": 14,
   "id": "5055a4a2",
   "metadata": {},
   "outputs": [
    {
     "data": {
      "text/plain": [
       "(5572, 3)"
      ]
     },
     "execution_count": 14,
     "metadata": {},
     "output_type": "execute_result"
    }
   ],
   "source": [
    "#showing the new shape (number of rows and columns)\n",
    "\n",
    "df.shape"
   ]
  },
  {
   "cell_type": "code",
   "execution_count": 15,
   "id": "64b743b3",
   "metadata": {},
   "outputs": [
    {
     "data": {
      "text/html": [
       "<div>\n",
       "<style scoped>\n",
       "    .dataframe tbody tr th:only-of-type {\n",
       "        vertical-align: middle;\n",
       "    }\n",
       "\n",
       "    .dataframe tbody tr th {\n",
       "        vertical-align: top;\n",
       "    }\n",
       "\n",
       "    .dataframe thead th {\n",
       "        text-align: right;\n",
       "    }\n",
       "</style>\n",
       "<table border=\"1\" class=\"dataframe\">\n",
       "  <thead>\n",
       "    <tr style=\"text-align: right;\">\n",
       "      <th></th>\n",
       "      <th>label</th>\n",
       "      <th>text</th>\n",
       "      <th>Spam</th>\n",
       "      <th>length</th>\n",
       "    </tr>\n",
       "  </thead>\n",
       "  <tbody>\n",
       "    <tr>\n",
       "      <th>0</th>\n",
       "      <td>ham</td>\n",
       "      <td>Go until jurong point, crazy.. Available only ...</td>\n",
       "      <td>0</td>\n",
       "      <td>111</td>\n",
       "    </tr>\n",
       "    <tr>\n",
       "      <th>1</th>\n",
       "      <td>ham</td>\n",
       "      <td>Ok lar... Joking wif u oni...</td>\n",
       "      <td>0</td>\n",
       "      <td>29</td>\n",
       "    </tr>\n",
       "    <tr>\n",
       "      <th>2</th>\n",
       "      <td>spam</td>\n",
       "      <td>Free entry in 2 a wkly comp to win FA Cup fina...</td>\n",
       "      <td>1</td>\n",
       "      <td>155</td>\n",
       "    </tr>\n",
       "    <tr>\n",
       "      <th>3</th>\n",
       "      <td>ham</td>\n",
       "      <td>U dun say so early hor... U c already then say...</td>\n",
       "      <td>0</td>\n",
       "      <td>49</td>\n",
       "    </tr>\n",
       "    <tr>\n",
       "      <th>4</th>\n",
       "      <td>ham</td>\n",
       "      <td>Nah I don't think he goes to usf, he lives aro...</td>\n",
       "      <td>0</td>\n",
       "      <td>61</td>\n",
       "    </tr>\n",
       "  </tbody>\n",
       "</table>\n",
       "</div>"
      ],
      "text/plain": [
       "  label                                               text  Spam  length\n",
       "0   ham  Go until jurong point, crazy.. Available only ...     0     111\n",
       "1   ham                      Ok lar... Joking wif u oni...     0      29\n",
       "2  spam  Free entry in 2 a wkly comp to win FA Cup fina...     1     155\n",
       "3   ham  U dun say so early hor... U c already then say...     0      49\n",
       "4   ham  Nah I don't think he goes to usf, he lives aro...     0      61"
      ]
     },
     "execution_count": 15,
     "metadata": {},
     "output_type": "execute_result"
    }
   ],
   "source": [
    "df['length']=df['text'].apply(len)\n",
    "df.head()"
   ]
  },
  {
   "cell_type": "code",
   "execution_count": 16,
   "id": "cf81ed9d",
   "metadata": {},
   "outputs": [
    {
     "data": {
      "text/plain": [
       "<AxesSubplot:ylabel='Frequency'>"
      ]
     },
     "execution_count": 16,
     "metadata": {},
     "output_type": "execute_result"
    },
    {
     "data": {
      "image/png": "[encoded data removed]",
      "text/plain": [
       "<Figure size 720x720 with 1 Axes>"
      ]
     },
     "metadata": {
      "needs_background": "light"
     },
     "output_type": "display_data"
    }
   ],
   "source": [
    "df['length'].plot(bins=50, kind='hist',figsize=(10,10))"
   ]
  },
  {
   "cell_type": "code",
   "execution_count": 17,
   "id": "7985c2e5",
   "metadata": {},
   "outputs": [
    {
     "data": {
      "text/plain": [
       "array([<AxesSubplot:title={'center':'ham'}>,\n",
       "       <AxesSubplot:title={'center':'spam'}>], dtype=object)"
      ]
     },
     "execution_count": 17,
     "metadata": {},
     "output_type": "execute_result"
    },
    {
     "data": {
      "image/png": "[encoded data removed]",
      "text/plain": [
       "<Figure size 1080x720 with 2 Axes>"
      ]
     },
     "metadata": {
      "needs_background": "light"
     },
     "output_type": "display_data"
    }
   ],
   "source": [
    "df.hist(column='length', by='label', bins=50, figsize=(15,10))"
   ]
  },
  {
   "cell_type": "markdown",
   "id": "c9711eae",
   "metadata": {},
   "source": [
    "# Preprocessing and cleaning of data"
   ]
  },
  {
   "cell_type": "code",
   "execution_count": 18,
   "id": "f2bbb826",
   "metadata": {},
   "outputs": [
    {
     "name": "stdout",
     "output_type": "stream",
     "text": [
      "Go until jurong point, crazy.. Available only in bugis n great world la e buffet... Cine there got amore wat...\n",
      "\n",
      "Ok lar... Joking wif u oni...\n",
      "\n",
      "Free entry in 2 a wkly comp to win FA Cup final tkts 21st May 2005. Text FA to 87121 to receive entry question(std txt rate)T&C's apply 08452810075over18's\n",
      "\n",
      "U dun say so early hor... U c already then say...\n",
      "\n",
      "Nah I don't think he goes to usf, he lives around here though\n",
      "\n",
      "FreeMsg Hey there darling it's been 3 week's now and no word back! I'd like some fun you up for it still? Tb ok! XxX std chgs to send, å£1.50 to rcv\n",
      "\n",
      "Even my brother is not like to speak with me. They treat me like aids patent.\n",
      "\n",
      "As per your request 'Melle Melle (Oru Minnaminunginte Nurungu Vettam)' has been set as your callertune for all Callers. Press *9 to copy your friends Callertune\n",
      "\n",
      "WINNER!! As a valued network customer you have been selected to receivea å£900 prize reward! To claim call 09061701461. Claim code KL341. Valid 12 hours only.\n",
      "\n",
      "Had your mobile 11 months or more? U R entitled to Update to the latest colour mobiles with camera for Free! Call The Mobile Update Co FREE on 08002986030\n",
      "\n",
      "I'm gonna be home soon and i don't want to talk about this stuff anymore tonight, k? I've cried enough today.\n",
      "\n",
      "SIX chances to win CASH! From 100 to 20,000 pounds txt> CSH11 and send to 87575. Cost 150p/day, 6days, 16+ TsandCs apply Reply HL 4 info\n",
      "\n",
      "URGENT! You have won a 1 week FREE membership in our å£100,000 Prize Jackpot! Txt the word: CLAIM to No: 81010 T&C www.dbuk.net LCCLTD POBOX 4403LDNW1A7RW18\n",
      "\n",
      "I've been searching for the right words to thank you for this breather. I promise i wont take your help for granted and will fulfil my promise. You have been wonderful and a blessing at all times.\n",
      "\n",
      "I HAVE A DATE ON SUNDAY WITH WILL!!\n",
      "\n",
      "XXXMobileMovieClub: To use your credit, click the WAP link in the next txt message or click here>> http://wap. xxxmobilemovieclub.com?n=QJKGIGHJJGCBL\n",
      "\n",
      "Oh k...i'm watching here:)\n",
      "\n",
      "Eh u remember how 2 spell his name... Yes i did. He v naughty make until i v wet.\n",
      "\n",
      "Fine if thatåÕs the way u feel. ThatåÕs the way its gota b\n",
      "\n",
      "England v Macedonia - dont miss the goals/team news. Txt ur national team to 87077 eg ENGLAND to 87077 Try:WALES, SCOTLAND 4txt/Ì¼1.20 POBOXox36504W45WQ 16+\n",
      "\n",
      "Is that seriously how you spell his name?\n",
      "\n",
      "I‰Û÷m going to try for 2 months ha ha only joking\n",
      "\n",
      "So Ì_ pay first lar... Then when is da stock comin...\n",
      "\n",
      "Aft i finish my lunch then i go str down lor. Ard 3 smth lor. U finish ur lunch already?\n",
      "\n",
      "Ffffffffff. Alright no way I can meet up with you sooner?\n",
      "\n",
      "Just forced myself to eat a slice. I'm really not hungry tho. This sucks. Mark is getting worried. He knows I'm sick when I turn down pizza. Lol\n",
      "\n",
      "Lol your always so convincing.\n",
      "\n",
      "Did you catch the bus ? Are you frying an egg ? Did you make a tea? Are you eating your mom's left over dinner ? Do you feel my Love ?\n",
      "\n",
      "I'm back &amp; we're packing the car now, I'll let you know if there's room\n",
      "\n",
      "Ahhh. Work. I vaguely remember that! What does it feel like? Lol\n",
      "\n",
      "Wait that's still not all that clear, were you not sure about me being sarcastic or that that's why x doesn't want to live with us\n",
      "\n",
      "Yeah he got in at 2 and was v apologetic. n had fallen out and she was actin like spoilt child and he got caught up in that. Till 2! But we won't go there! Not doing too badly cheers. You? \n",
      "\n",
      "K tell me anything about you.\n",
      "\n",
      "For fear of fainting with the of all that housework you just did? Quick have a cuppa\n",
      "\n",
      "Thanks for your subscription to Ringtone UK your mobile will be charged å£5/month Please confirm by replying YES or NO. If you reply NO you will not be charged\n",
      "\n",
      "Yup... Ok i go home look at the timings then i msg Ì_ again... Xuhui going to learn on 2nd may too but her lesson is at 8am\n",
      "\n",
      "Oops, I'll let you know when my roommate's done\n",
      "\n",
      "I see the letter B on my car\n",
      "\n",
      "Anything lor... U decide...\n",
      "\n",
      "Hello! How's you and how did saturday go? I was just texting to see if you'd decided to do anything tomo. Not that i'm trying to invite myself or anything!\n",
      "\n",
      "Pls go ahead with watts. I just wanted to be sure. Do have a great weekend. Abiola\n",
      "\n",
      "Did I forget to tell you ? I want you , I need you, I crave you ... But most of all ... I love you my sweet Arabian steed ... Mmmmmm ... Yummy\n",
      "\n",
      "07732584351 - Rodger Burns - MSG = We tried to call you re your reply to our sms for a free nokia mobile + free camcorder. Please call now 08000930705 for delivery tomorrow\n",
      "\n",
      "WHO ARE YOU SEEING?\n",
      "\n",
      "Great! I hope you like your man well endowed. I am  &lt;#&gt;  inches...\n",
      "\n",
      "No calls..messages..missed calls\n",
      "\n",
      "Didn't you get hep b immunisation in nigeria.\n",
      "\n",
      "Fair enough, anything going on?\n",
      "\n",
      "Yeah hopefully, if tyler can't do it I could maybe ask around a bit\n",
      "\n",
      "U don't know how stubborn I am. I didn't even want to go to the hospital. I kept telling Mark I'm not a weak sucker. Hospitals are for weak suckers.\n",
      "\n",
      "What you thinked about me. First time you saw me in class.\n",
      "\n",
      "A gram usually runs like  &lt;#&gt; , a half eighth is smarter though and gets you almost a whole second gram for  &lt;#&gt;\n",
      "\n",
      "K fyi x has a ride early tomorrow morning but he's crashing at our place tonight\n",
      "\n",
      "Wow. I never realized that you were so embarassed by your accomodations. I thought you liked it, since i was doing the best i could and you always seemed so happy about \\the cave\\\". I'm sorry I didn't and don't have more to give. I'm sorry i offered. I'm sorry your room was so embarassing.\"\n",
      "\n",
      "SMS. ac Sptv: The New Jersey Devils and the Detroit Red Wings play Ice Hockey. Correct or Incorrect? End? Reply END SPTV\n",
      "\n",
      "Do you know what Mallika Sherawat did yesterday? Find out now @  &lt;URL&gt;\n",
      "\n",
      "Congrats! 1 year special cinema pass for 2 is yours. call 09061209465 now! C Suprman V, Matrix3, StarWars3, etc all 4 FREE! bx420-ip4-5we. 150pm. Dont miss out! \n",
      "\n",
      "Sorry, I'll call later in meeting.\n",
      "\n",
      "Tell where you reached\n",
      "\n",
      "Yes..gauti and sehwag out of odi series.\n",
      "\n",
      "Your gonna have to pick up a $1 burger for yourself on your way home. I can't even move. Pain is killing me.\n",
      "\n",
      "Ha ha ha good joke. Girls are situation seekers.\n",
      "\n",
      "Its a part of checking IQ\n",
      "\n",
      "Sorry my roommates took forever, it ok if I come by now?\n",
      "\n",
      "Ok lar i double check wif da hair dresser already he said wun cut v short. He said will cut until i look nice.\n",
      "\n",
      "As a valued customer, I am pleased to advise you that following recent review of your Mob No. you are awarded with a å£1500 Bonus Prize, call 09066364589\n",
      "\n",
      "Today is \\song dedicated day..\\\" Which song will u dedicate for me? Send this to all ur valuable frnds but first rply me...\"\n",
      "\n",
      "Urgent UR awarded a complimentary trip to EuroDisinc Trav, Aco&Entry41 Or å£1000. To claim txt DIS to 87121 18+6*å£1.50(moreFrmMob. ShrAcomOrSglSuplt)10, LS1 3AJ\n",
      "\n",
      "Did you hear about the new \\Divorce Barbie\\\"? It comes with all of Ken's stuff!\"\n",
      "\n",
      "I plane to give on this month end.\n",
      "\n",
      "Wah lucky man... Then can save money... Hee...\n",
      "\n",
      "Finished class where are you.\n",
      "\n",
      "HI BABE IM AT HOME NOW WANNA DO SOMETHING? XX\n",
      "\n",
      "K..k:)where are you?how did you performed?\n",
      "\n",
      "U can call me now...\n",
      "\n",
      "I am waiting machan. Call me once you free.\n",
      "\n",
      "Thats cool. i am a gentleman and will treat you with dignity and respect.\n",
      "\n",
      "I like you peoples very much:) but am very shy pa.\n",
      "\n",
      "Does not operate after  &lt;#&gt;  or what\n",
      "\n",
      "Its not the same here. Still looking for a job. How much do Ta's earn there.\n",
      "\n",
      "Sorry, I'll call later\n",
      "\n",
      "K. Did you call me just now ah? \n",
      "\n",
      "Ok i am on the way to home hi hi\n",
      "\n",
      "You will be in the place of that man\n",
      "\n",
      "Yup next stop.\n",
      "\n",
      "I call you later, don't have network. If urgnt, sms me.\n",
      "\n",
      "For real when u getting on yo? I only need 2 more tickets and one more jacket and I'm done. I already used all my multis.\n",
      "\n",
      "Yes I started to send requests to make it but pain came back so I'm back in bed. Double coins at the factory too. I gotta cash in all my nitros.\n",
      "\n",
      "I'm really not up to it still tonight babe\n",
      "\n",
      "Ela kano.,il download, come wen ur free..\n",
      "\n",
      "Yeah do! Don‰Û÷t stand to close tho- you‰Û÷ll catch something!\n",
      "\n",
      "Sorry to be a pain. Is it ok if we meet another night? I spent late afternoon in casualty and that means i haven't done any of y stuff42moro and that includes all my time sheets and that. Sorry. \n",
      "\n",
      "Smile in Pleasure Smile in Pain Smile when trouble pours like Rain Smile when sum1 Hurts U Smile becoz SOMEONE still Loves to see u Smiling!!\n",
      "\n",
      "Please call our customer service representative on 0800 169 6031 between 10am-9pm as you have WON a guaranteed å£1000 cash or å£5000 prize!\n",
      "\n",
      "Havent planning to buy later. I check already lido only got 530 show in e afternoon. U finish work already?\n",
      "\n",
      "Your free ringtone is waiting to be collected. Simply text the password \\MIX\\\" to 85069 to verify. Get Usher and Britney. FML\n",
      "\n",
      "Watching telugu movie..wat abt u?\n",
      "\n",
      "i see. When we finish we have loads of loans to pay\n",
      "\n",
      "ham\"\n",
      "\n",
      "Please don't text me anymore. I have nothing else to say.\n",
      "\n"
     ]
    }
   ],
   "source": [
    "for x in range(100):\n",
    "    print(df['text'][x])\n",
    "    print()"
   ]
  },
  {
   "cell_type": "code",
   "execution_count": 19,
   "id": "a46aa235",
   "metadata": {},
   "outputs": [],
   "source": [
    "def decontact(phrase):\n",
    "    # specific\n",
    "    phrase = re.sub(r\"won't\", \"will not\", phrase)\n",
    "    phrase = re.sub(r\"can\\'t\", \"can not\", phrase)\n",
    "\n",
    "    # general\n",
    "    phrase = re.sub(r\"\\'ur\", \" your\", phrase)\n",
    "    phrase = re.sub(r\"n\\'t\", \" not\", phrase)\n",
    "    phrase = re.sub(r\"\\'re\", \" are\", phrase)\n",
    "    phrase = re.sub(r\"\\'s\", \" is\", phrase)\n",
    "    phrase = re.sub(r\"\\'d\", \" would\", phrase)\n",
    "    phrase = re.sub(r\"\\'ll\", \" will\", phrase)\n",
    "    phrase = re.sub(r\"\\'t\", \" not\", phrase)\n",
    "    phrase = re.sub(r\"\\'ve\", \" have\", phrase)\n",
    "    phrase = re.sub(r\"\\'m\", \" am\", phrase)\n",
    "    return phrase"
   ]
  },
  {
   "cell_type": "code",
   "execution_count": 20,
   "id": "8daa818b",
   "metadata": {},
   "outputs": [
    {
     "name": "stderr",
     "output_type": "stream",
     "text": [
      "C:\\Users\\HP\\AppData\\Local\\Temp/ipykernel_12364/2791098601.py:5: FutureWarning: The default value of regex will change from True to False in a future version.\n",
      "  df['text']=df['text'].str.replace(r'\\n',\" \")\n",
      "C:\\Users\\HP\\AppData\\Local\\Temp/ipykernel_12364/2791098601.py:7: FutureWarning: The default value of regex will change from True to False in a future version.\n",
      "  df['text']=df['text'].str.replace(r'^.+@[^\\.].*\\.[a-z]{2,}$','MailID')\n",
      "C:\\Users\\HP\\AppData\\Local\\Temp/ipykernel_12364/2791098601.py:9: FutureWarning: The default value of regex will change from True to False in a future version.\n",
      "  df['text']=df['text'].str.replace(r'^http\\://[a-zA-Z0-9\\-\\.]+\\.[a-zA-Z]{2,3}(/\\S*)?$','Links')\n",
      "C:\\Users\\HP\\AppData\\Local\\Temp/ipykernel_12364/2791098601.py:11: FutureWarning: The default value of regex will change from True to False in a future version.\n",
      "  df['text']=df['text'].str.replace(r'£|\\$', 'Money')\n",
      "C:\\Users\\HP\\AppData\\Local\\Temp/ipykernel_12364/2791098601.py:13: FutureWarning: The default value of regex will change from True to False in a future version.\n",
      "  df['text']=df['text'].str.replace(r'\\s+', ' ')\n",
      "C:\\Users\\HP\\AppData\\Local\\Temp/ipykernel_12364/2791098601.py:16: FutureWarning: The default value of regex will change from True to False in a future version.\n",
      "  df['text']=df['text'].str.replace(r'^\\s+|\\s+?$', '')\n",
      "C:\\Users\\HP\\AppData\\Local\\Temp/ipykernel_12364/2791098601.py:18: FutureWarning: The default value of regex will change from True to False in a future version.\n",
      "  df['text']=df['text'].str.replace(r'^\\(?[\\d]{3}\\)?[\\s-]?[\\d]{3}[\\s-]?[\\d]{4}$','contact number')\n",
      "C:\\Users\\HP\\AppData\\Local\\Temp/ipykernel_12364/2791098601.py:20: FutureWarning: The default value of regex will change from True to False in a future version.\n",
      "  df['text']=df['text'].str.replace(r\"[^a-zA-Z0-9]+\", \" \")\n"
     ]
    }
   ],
   "source": [
    "df['text'].apply(decontact)\n",
    "#CONVRTING EVERYTHING TO LOWERCASE\n",
    "df['text']=df['text'].str.lower()\n",
    "#REPLACING NEXT LINES BY 'WHITE SPACE'\n",
    "df['text']=df['text'].str.replace(r'\\n',\" \") \n",
    "# REPLACING EMAIL IDs BY 'MAILID'\n",
    "df['text']=df['text'].str.replace(r'^.+@[^\\.].*\\.[a-z]{2,}$','MailID')\n",
    "# REPLACING URLs  BY 'Links'\n",
    "df['text']=df['text'].str.replace(r'^http\\://[a-zA-Z0-9\\-\\.]+\\.[a-zA-Z]{2,3}(/\\S*)?$','Links')\n",
    "# REPLACING CURRENCY SIGNS BY 'MONEY'\n",
    "df['text']=df['text'].str.replace(r'£|\\$', 'Money')\n",
    "# REPLACING LARGE WHITE SPACE BY SINGLE WHITE SPACE\n",
    "df['text']=df['text'].str.replace(r'\\s+', ' ')\n",
    "\n",
    "# REPLACING LEADING AND TRAILING WHITE SPACE BY SINGLE WHITE SPACE\n",
    "df['text']=df['text'].str.replace(r'^\\s+|\\s+?$', '')\n",
    "#REPLACING CONTACT NUMBERS\n",
    "df['text']=df['text'].str.replace(r'^\\(?[\\d]{3}\\)?[\\s-]?[\\d]{3}[\\s-]?[\\d]{4}$','contact number')\n",
    "#REPLACING SPECIAL CHARACTERS  BY WHITE SPACE \n",
    "df['text']=df['text'].str.replace(r\"[^a-zA-Z0-9]+\", \" \")"
   ]
  },
  {
   "cell_type": "code",
   "execution_count": 21,
   "id": "8b525104",
   "metadata": {},
   "outputs": [],
   "source": [
    "df['text'] = df['text'].str.replace(\" ur \", \"\")\n",
    "df['text'] = df['text'].str.replace(\" yr \", \"\")\n",
    "df['text'] = df['text'].str.replace(\" yor \", \"\")\n",
    "df['text'] = df['text'].str.replace(\" n \", \" in \")\n",
    "df['text'] = df['text'].str.replace(\" u \", \" you \")\n",
    "df['text'] = df['text'].str.replace(\" 2 \", \" \")\n",
    "df['text'] = df['text'].str.replace(\" tkts \", \" tickets \")\n",
    "df['text'] = df['text'].str.replace(\" dun \", \" do not \")\n",
    "df['text'] = df['text'].str.replace(\" XxX \", \"\")\n",
    "df['text'] = df['text'].str.replace(\" £ \", \" money \")\n",
    "df['text'] = df['text'].str.replace(\" r \", \" are \")\n",
    "df['text'] = df['text'].str.replace(\" k \", \" okay \")\n",
    "df['text'] = df['text'].str.replace(\" v \", \" very \")\n",
    "df['text'] = df['text'].str.replace(\" b \", \" be \")\n",
    "df['text'] = df['text'].str.replace(\" comin \", \" coming \")\n",
    "df['text'] = df['text'].str.replace(\" aft \", \" after \")\n",
    "df['text'] = df['text'].str.replace(\" str \", \" staight \")\n",
    "df['text'] = df['text'].str.replace(\" ard \", \"\")\n",
    "df['text'] = df['text'].str.replace(\" tho \", \"\")\n",
    "df['text'] = df['text'].str.replace(\" &amp \", \"\")\n",
    "df['text'] = df['text'].str.replace(\" yup \", \" yes \")\n",
    "df['text'] = df['text'].str.replace(\" pls \", \" please \")\n",
    "df['text'] = df['text'].str.replace(\" congrats \", \" congratulation \")\n",
    "df['text'] = df['text'].str.replace(\" 4 \", \"\")\n",
    "df['text'] = df['text'].str.replace(\" da \", \" the \")\n",
    "df['text'] = df['text'].str.replace(\" wif \",\" with \")\n",
    "df['text'] = df['text'].str.replace(\" rply \", \" reply \")\n",
    "df['text'] = df['text'].str.replace(\" frnds \", \" friends \")\n",
    "df['text'] = df['text'].str.replace(\" urgnt \", \" urgent \")\n",
    "df['text'] = df['text'].str.replace(\" gotta \", \" going to \")\n",
    "df['text'] = df['text'].str.replace(\" wen \", \" when \")\n",
    "df['text'] = df['text'].str.replace(\" wat \", \" what \")\n",
    "df['text'] = df['text'].str.replace(\" abt \", \" about \")\n",
    "df['text'] = df['text'].str.replace(\" prob \", \" problem \")"
   ]
  },
  {
   "cell_type": "code",
   "execution_count": 22,
   "id": "79859d3c",
   "metadata": {},
   "outputs": [
    {
     "name": "stdout",
     "output_type": "stream",
     "text": [
      "go until jurong point crazy available only in bugis in great world la e buffet cine there got amore what \n",
      " \n",
      "ok lar joking with you oni \n",
      " \n",
      "free entry in a wkly comp to win fa cup final tickets 21st may 2005 text fa to 87121 to receive entry question std txt rate t c s apply 08452810075over18 s\n",
      " \n",
      "u do not say so early hor you c already then say \n",
      " \n",
      "nah i don t think he goes to usf he lives around here though\n",
      " \n",
      "freemsg hey there darling it s been 3 week s now and no word back i d like some fun you up for it still tb ok xxx std chgs to send Money1 50 to rcv\n",
      " \n",
      "even my brother is not like to speak with me they treat me like aids patent \n",
      " \n",
      "as per your request melle melle oru minnaminunginte nurungu vettam has been set as your callertune for all callers press 9 to copy your friends callertune\n",
      " \n",
      "winner as a valued network customer you have been selected to receivea Money900 prize reward to claim call 09061701461 claim code kl341 valid 12 hours only \n",
      " \n",
      "had your mobile 11 months or more you are entitled to update to the latest colour mobiles with camera for free call the mobile update co free on 08002986030\n",
      " \n",
      "i m gonna be home soon and i don t want to talk about this stuff anymore tonight okay i ve cried enough today \n",
      " \n",
      "six chances to win cash from 100 to 20 000 pounds txt csh11 and send to 87575 cost 150p day 6days 16 tsandcs apply reply hlinfo\n",
      " \n",
      "urgent you have won a 1 week free membership in our Money100 000 prize jackpot txt the word claim to no 81010 t c www dbuk net lccltd pobox 4403ldnw1a7rw18\n",
      " \n",
      "i ve been searching for the right words to thank you for this breather i promise i wont take your help for granted and will fulfil my promise you have been wonderful and a blessing at all times \n",
      " \n",
      "i have a date on sunday with will \n",
      " \n",
      "xxxmobilemovieclub to use your credit click the wap link in the next txt message or click here http wap xxxmobilemovieclub com in qjkgighjjgcbl\n",
      " \n",
      "oh okay i m watching here \n",
      " \n",
      "eh you remember how spell his name yes i did he very naughty make until i very wet \n",
      " \n",
      "fine if that s the way you feel that s the way its gota b\n",
      " \n",
      "england very macedonia dont miss the goals team news txtnational team to 87077 eg england to 87077 try wales scotland 4txt 1 20 poboxox36504w45wq 16 \n",
      " \n",
      "is that seriously how you spell his name \n",
      " \n",
      "i m going to try for months ha ha only joking\n",
      " \n",
      "so pay first lar then when is the stock coming \n",
      " \n",
      "aft i finish my lunch then i go staight down lor3 smth lor you finishlunch already \n",
      " \n",
      "ffffffffff alright no way i can meet up with you sooner \n",
      " \n",
      "just forced myself to eat a slice i m really not hungrythis sucks mark is getting worried he knows i m sick when i turn down pizza lol\n",
      " \n",
      "lol your always so convincing \n",
      " \n",
      "did you catch the bus are you frying an egg did you make a tea are you eating your mom s left over dinner do you feel my love \n",
      " \n",
      "i m back amp we re packing the car now i ll let you know if there s room\n",
      " \n",
      "ahhh work i vaguely remember that what does it feel like lol\n",
      " \n",
      "wait that s still not all that clear were you not sure about me being sarcastic or that that s why x doesn t want to live with us\n",
      " \n",
      "yeah he got in at and was very apologetic in had fallen out and she was actin like spoilt child and he got caught up in that till but we won t go there not doing too badly cheers you \n",
      " \n",
      "k tell me anything about you \n",
      " \n",
      "for fear of fainting with the of all that housework you just did quick have a cuppa\n",
      " \n",
      "thanks for your subscription to ringtone uk your mobile will be charged Money5 month please confirm by replying yes or no if you reply no you will not be charged\n",
      " \n",
      "yup ok i go home look at the timings then i msg again xuhui going to learn on 2nd may too but her lesson is at 8am\n",
      " \n",
      "oops i ll let you know when my roommate s done\n",
      " \n",
      "i see the letter be on my car\n",
      " \n",
      "anything lor you decide \n",
      " \n",
      "hello how s you and how did saturday go i was just texting to see if you d decided to do anything tomo not that i m trying to invite myself or anything \n",
      " \n",
      "pls go ahead with watts i just wanted to be sure do have a great weekend abiola\n",
      " \n",
      "did i forget to tell you i want you i need you i crave you but most of all i love you my sweet arabian steed mmmmmm yummy\n",
      " \n",
      "07732584351 rodger burns msg we tried to call you re your reply to our sms for a free nokia mobile free camcorder please call now 08000930705 for delivery tomorrow\n",
      " \n",
      "who are you seeing \n",
      " \n",
      "great i hope you like your man well endowed i am lt gt inches \n",
      " \n",
      "no calls messages missed calls\n",
      " \n",
      "didn t you get hep be immunisation in nigeria \n",
      " \n",
      "fair enough anything going on \n",
      " \n",
      "yeah hopefully if tyler can t do it i could maybe ask around a bit\n",
      " \n",
      "u don t know how stubborn i am i didn t even want to go to the hospital i kept telling mark i m not a weak sucker hospitals are for weak suckers \n",
      " \n",
      "what you thinked about me first time you saw me in class \n",
      " \n",
      "a gram usually runs like lt gt a half eighth is smarter though and gets you almost a whole second gram for lt gt \n",
      " \n",
      "k fyi x has a ride early tomorrow morning but he s crashing at our place tonight\n",
      " \n",
      "wow i never realized that you were so embarassed by your accomodations i thought you liked it since i was doing the best i could and you always seemed so happy about the cave i m sorry i didn t and don t have more to give i m sorry i offered i m sorry your room was so embarassing \n",
      " \n",
      "sms ac sptv the new jersey devils and the detroit red wings play ice hockey correct or incorrect end reply end sptv\n",
      " \n",
      "do you know what mallika sherawat did yesterday find out now lt url gt \n",
      " \n",
      "congrats 1 year special cinema pass for is yours call 09061209465 now c suprman very matrix3 starwars3 etc allfree bx420 ip4 5we 150pm dont miss out \n",
      " \n",
      "sorry i ll call later in meeting \n",
      " \n",
      "tell where you reached\n",
      " \n",
      "yes gauti and sehwag out of odi series \n",
      " \n",
      "your gonna have to pick up a Money1 burger for yourself on your way home i can t even move pain is killing me \n",
      " \n",
      "ha ha ha good joke girls are situation seekers \n",
      " \n",
      "its a part of checking iq\n",
      " \n",
      "sorry my roommates took forever it ok if i come by now \n",
      " \n",
      "ok lar i double check with the hair dresser already he said wun cut very short he said will cut until i look nice \n",
      " \n",
      "as a valued customer i am pleased to advise you that following recent review of your mob no you are awarded with a Money1500 bonus prize call 09066364589\n",
      " \n",
      "today is song dedicated day which song will you dedicate for me send this to allvaluable friends but first reply me \n",
      " \n",
      "urgentawarded a complimentary trip to eurodisinc trav aco entry41 or Money1000 to claim txt dis to 87121 18 6 Money1 50 morefrmmob shracomorsglsuplt 10 ls1 3aj\n",
      " \n",
      "did you hear about the new divorce barbie it comes with all of ken s stuff \n",
      " \n",
      "i plane to give on this month end \n",
      " \n",
      "wah lucky man then can save money hee \n",
      " \n",
      "finished class where are you \n",
      " \n",
      "hi babe im at home now wanna do something xx\n",
      " \n",
      "k okay where are you how did you performed \n",
      " \n",
      "u can call me now \n",
      " \n",
      "i am waiting machan call me once you free \n",
      " \n",
      "thats cool i am a gentleman and will treat you with dignity and respect \n",
      " \n",
      "i like you peoples very much but am very shy pa \n",
      " \n",
      "does not operate after lt gt or what\n",
      " \n",
      "its not the same here still looking for a job how much do ta s earn there \n",
      " \n",
      "sorry i ll call later\n",
      " \n",
      "k did you call me just now ah \n",
      " \n",
      "ok i am on the way to home hi hi\n",
      " \n",
      "you will be in the place of that man\n",
      " \n",
      "yup next stop \n",
      " \n",
      "i call you later don t have network if urgent sms me \n",
      " \n",
      "for real when you getting on yo i only need more tickets and one more jacket and i m done i already used all my multis \n",
      " \n",
      "yes i started to send requests to make it but pain came back so i m back in bed double coins at the factory too i going to cash in all my nitros \n",
      " \n",
      "i m really not up to it still tonight babe\n",
      " \n",
      "ela kano il download come wenfree \n",
      " \n",
      "yeah do don t stand to closeyou ll catch something \n",
      " \n",
      "sorry to be a pain is it ok if we meet another night i spent late afternoon in casualty and that means i haven t done any of y stuff42moro and that includes all my time sheets and that sorry \n",
      " \n",
      "smile in pleasure smile in pain smile when trouble pours like rain smile when sum1 hurts you smile becoz someone still loves to see you smiling \n",
      " \n",
      "please call our customer service representative on 0800 169 6031 between 10am 9pm as you have won a guaranteed Money1000 cash or Money5000 prize \n",
      " \n",
      "havent planning to buy later i check already lido only got 530 show in e afternoon you finish work already \n",
      " \n",
      "your free ringtone is waiting to be collected simply text the password mix to 85069 to verify get usher and britney fml\n",
      " \n",
      "watching telugu movie what about you \n",
      " \n",
      "i see when we finish we have loads of loans to pay\n",
      " \n",
      "hi wk been ok on hols now yes on for a bit of a run forgot that i have hairdressers appointment at four so need to get home in shower beforehand does that cause problem for you ham \n",
      " \n",
      "please don t text me anymore i have nothing else to say \n",
      " \n"
     ]
    }
   ],
   "source": [
    "for x in range(100):\n",
    "    print(df['text'][x])\n",
    "    print(\" \")"
   ]
  },
  {
   "cell_type": "code",
   "execution_count": 88,
   "id": "a2648404",
   "metadata": {},
   "outputs": [
    {
     "name": "stderr",
     "output_type": "stream",
     "text": [
      "[nltk_data] Downloading package stopwords to\n",
      "[nltk_data]     C:\\Users\\HP\\AppData\\Roaming\\nltk_data...\n",
      "[nltk_data]   Package stopwords is already up-to-date!\n"
     ]
    }
   ],
   "source": [
    "nltk.download('stopwords')\n",
    "ps = PorterStemmer()\n",
    "\n",
    "def clean_text(text):\n",
    "    #removing punctuation\n",
    "    remover = [char for char in text if char not in string.punctuation]\n",
    "    remover = \"\".join(remover)\n",
    "    #removing stopwords and stemming\n",
    "    removestop = [word for word in remover.split() if word.lower() not in stopwords.words('english')]\n",
    "    removestop = \" \".join(removestop)\n",
    "    removestop = [ps.stem(word) for word in removestop.split() if not word.lower() in stopwords.words('english')]\n",
    "    #returning a list of clean words\n",
    "    return removestop"
   ]
  },
  {
   "cell_type": "code",
   "execution_count": 24,
   "id": "e75e2938",
   "metadata": {},
   "outputs": [
    {
     "data": {
      "text/plain": [
       "0    [go, jurong, point, crazi, avail, bugi, great,...\n",
       "1                                 [ok, lar, joke, oni]\n",
       "2    [free, entri, wkli, comp, win, fa, cup, final,...\n",
       "3                [u, say, earli, hor, c, alreadi, say]\n",
       "4         [nah, think, goe, usf, live, around, though]\n",
       "Name: text, dtype: object"
      ]
     },
     "execution_count": 24,
     "metadata": {},
     "output_type": "execute_result"
    }
   ],
   "source": [
    "# a sample of tokenized words\n",
    "\n",
    "df['text'].head().apply(clean_text)"
   ]
  },
  {
   "cell_type": "code",
   "execution_count": 25,
   "id": "9e3cce7f",
   "metadata": {},
   "outputs": [],
   "source": [
    "#converting the text to a matrix of tokens\n",
    "\n",
    "from sklearn.feature_extraction.text import CountVectorizer\n",
    "cv = CountVectorizer(analyzer = clean_text, max_features = 3000)\n",
    "messages_count = cv.fit_transform(df['text'])\n"
   ]
  },
  {
   "cell_type": "code",
   "execution_count": 26,
   "id": "131562d9",
   "metadata": {},
   "outputs": [
    {
     "name": "stdout",
     "output_type": "stream",
     "text": [
      "['0', '00', '000', '02', '0207', '03', '04', '05', '06', '07xxxxxxxxx', '0800', '08000407165', '08000776320', '08000839402', '08000930705', '08000938767', '08001950382', '08002888812', '08002986030', '08002986906', '08006344447', '0808', '08081560665', '0825', '0844', '0845', '08452810073', '0870', '08701417012', '08701417012150p', '08702840625', '08707509020', '0871', '08712300220', '08712405020', '08712460324', '08715705022', '08717898035', '08718720201', '087187262701', '08718727870', '09', '09050002311', '09050003091', '09050090044', '09056242159', '09058091854', '09058094565', '09058094597', '09058094599', '09058099801', '09061209465', '09061213237', '09061221061', '09061221066', '09061701461', '09061702893', '09061743386', '09061743806', '09061744553', '09061790121', '09063458130', '09064011000', '09064012160', '09064019014', '09065171142', '09065174042', '09065989182', '09066350750', '09066358152', '09066362231', '09066364311', '09066364589', '09066380611', '09066382422', '09066612661', '09071512433', '09094646899', '1', '10', '100', '1000', '100percent', '1030', '10am', '10k', '10p', '10ppm', '11', '113', '114', '11mth', '11pm', '12', '121', '123', '125gift', '12hr', '12mth', '1327', '14', '145', '15', '150', '150p', '150p16', '150pm', '150ppermesssubscript', '150ppm', '153', '16', '165', '169', '177', '18', '18p', '18yr', '1956669', '1hr', '1st', '1stlove', '1winaweek', '1x150p', '2', '20', '200', '2000', '2003', '2004', '2005', '20p', '21', '21st', '220', '24', '25', '250', '25p', '26', '28', '29', '2day', '2go', '2land', '2moro', '2morow', '2morrow', '2mrw', '2nd', '2ndsm', '2nite', '2optout', '2stoptxt', '2u', '2yr', '3', '30', '300', '3030', '31', '3510i', '36504', '3d', '3g', '3gbp', '3lp', '3min', '3qxj9', '3rdnatur', '3uz', '40gb', '434', '440', '45239', '4742', '4get', '4info', '4mob', '4mth', '4t', '4thperson', '4u', '5', '50', '500', '5000', '50gbp', '50p', '50perwksub', '530', '542', '5min', '5thsmile', '5wb', '5we', '6', '60p', '62468', '6hr', '6pm', '6thstyle', '7', '7250i', '750', '786', '7pm', '7th', '8', '800', '80062', '8007', '80082', '80182', '80488', '80878', '81151', '81303', '81618', '82242', '82277', '83222', '83355', '83600', '84025', '84128', '84199', '85', '85023', '8552', '86021', '86688', '86888', '87021', '87066', '87077', '87121', '87131', '872', '87239', '87575', '88039', '88066', '88088', '88222', '88600', '88877', '88888', '89070', '89080', '89545', '89555', '89693', '8am', '8p', '8pm', '8th', '8wp', '9', '910', '930', '99', '9ae', '9am', '9ja', '9pm', '9t', 'aah', 'aathi', 'abi', 'abil', 'abiola', 'abj', 'abl', 'absolutli', 'abta', 'aburo', 'abus', 'ac', 'academ', 'acc', 'accept', 'access', 'accid', 'accident', 'accomod', 'accordingli', 'account', 'ach', 'acl03530150pm', 'aco', 'across', 'act', 'action', 'activ', 'actor', 'actual', 'ad', 'adam', 'add', 'addamsfa', 'addi', 'addict', 'address', 'admin', 'administr', 'admir', 'admit', 'ador', 'adult', 'advanc', 'adventur', 'advic', 'advis', 'aeronaut', 'aeroplan', 'affair', 'affect', 'afraid', 'afternoon', 'aftlect', 'aftr', 'ag', 'agalla', 'age', 'age16', 'age23', 'agent', 'ago', 'agre', 'ah', 'aha', 'ahead', 'ahmad', 'aholiday', 'aid', 'aight', 'aint', 'air', 'airport', 'airtel', 'aiya', 'aiyah', 'aiyar', 'aiyo', 'aka', 'al', 'alaipayuth', 'album', 'alcohol', 'alert', 'alex', 'algarv', 'ali', 'aliv', 'allah', 'allfre', 'allfriend', 'allmobil', 'allow', 'allvalu', 'almost', 'alon', 'along', 'alreadi', 'alright', 'alrit', 'also', 'although', 'alway', 'alwi', 'amaz', 'american', 'ami', 'amma', 'among', 'amongst', 'amount', 'amp', 'amt', 'amus', 'an', 'andr', 'andro', 'angri', 'anim', 'anna', 'anni', 'anniversari', 'announc', 'annoy', 'anot', 'anoth', 'ansr', 'answer', 'answereasi', 'anthoni', 'anti', 'anybodi', 'anymor', 'anyon', 'anyth', 'anythin', 'anytim', 'anyway', 'anywher', 'aom', 'apart', 'apo', 'apolog', 'apologis', 'app', 'appar', 'applebe', 'appli', 'applic', 'appoint', 'appreci', 'approach', 'approv', 'approx', 'appt', 'april', 'aproach', 'ar', 'arcad', 'ard', 'area', 'arent', 'argh', 'argu', 'argument', 'aris', 'arm', 'armand', 'arng', 'around', 'arrang', 'arrest', 'arriv', 'arsen', 'art', 'arun', 'asap', 'ashley', 'ask', 'askd', 'askin', 'asleep', 'asp', 'ass', 'assum', 'ate', 'atlanta', 'atlast', 'atm', 'attach', 'attempt', 'attend', 'attract', 'auction', 'audit', 'audrey', 'august', 'aunt', 'aunti', 'auto', 'av', 'avail', 'avatar', 'ave', 'avent', 'avoid', 'await', 'awak', 'award', 'away', 'awesom', 'aww', 'ayn', 'b', 'b4', 'b4190604', 'b4280703', 'ba', 'babe', 'babi', 'babysit', 'back', 'bad', 'bag', 'bahama', 'bak', 'balanc', 'bank', 'bar', 'bare', 'base', 'basic', 'bat', 'bath', 'batteri', 'bay', 'bb', 'bcoz', 'bcum', 'bday', 'bear', 'beauti', 'becom', 'becoz', 'bed', 'bedroom', 'beer', 'befor', 'beg', 'begin', 'behav', 'behind', 'bein', 'believ', 'bell', 'belli', 'belovd', 'ben', 'best', 'best1', 'bet', 'better', 'bewar', 'beyond', 'bf', 'bid', 'big', 'bigger', 'biggest', 'bill', 'bin', 'bird', 'birla', 'birth', 'birthday', 'bishan', 'bit', 'bitch', 'bite', 'biz', 'black', 'blackberri', 'blah', 'blake', 'blame', 'blank', 'bless', 'block', 'bloke', 'bloo', 'blood', 'bloodi', 'bloomberg', 'blow', 'blue', 'bluetooth', 'bmw', 'boat', 'bodi', 'bold', 'bonu', 'boo', 'book', 'boost', 'booti', 'bore', 'born', 'boss', 'boston', 'bother', 'bottl', 'bottom', 'bought', 'bout', 'bowl', 'box', 'box39822', 'box95qu', 'box97n7qp', 'boy', 'boytoy', 'brain', 'brand', 'break', 'breath', 'bright', 'brilliant', 'bring', 'bro', 'broke', 'brotha', 'brother', 'brought', 'bslvyl', 'bstfrnd', 'bt', 'btw', 'bu', 'buck', 'bud', 'budget', 'buff', 'bugi', 'build', 'bun', 'burger', 'burn', 'busi', 'butt', 'buy', 'buzi', 'buzz', 'bx420', 'bye', 'c', 'cabin', 'cafe', 'cake', 'cal', 'calcul', 'calicut', 'california', 'call', 'call2optout', 'callback', 'caller', 'callertun', 'callin', 'cam', 'camcord', 'came', 'camera', 'campu', 'cancel', 'cancer', 'cann', 'cannot', 'cant', 'captain', 'car', 'card', 'cardiff', 'care', 'career', 'carlo', 'carri', 'cartoon', 'case', 'cash', 'cat', 'catch', 'caught', 'caus', 'cbe', 'cc', 'cd', 'celebr', 'cell', 'center', 'centr', 'certainli', 'cha', 'chain', 'challeng', 'chanc', 'chang', 'charact', 'charg', 'charged50', 'chariti', 'chart', 'chase', 'chat', 'cheap', 'cheaper', 'cheat', 'chechi', 'check', 'cheer', 'chennai', 'chicken', 'chikku', 'child', 'childish', 'children', 'chill', 'chillin', 'china', 'chines', 'choic', 'choos', 'chosen', 'christma', 'church', 'cine', 'cinema', 'citi', 'citizen', 'claim', 'claimaward', 'claimmoney150', 'claimpriz', 'clair', 'class', 'clean', 'clear', 'click', 'clock', 'clos1', 'close', 'closer', 'cloth', 'club', 'cm2', 'cn', 'co', 'cock', 'code', 'coffe', 'coin', 'cold', 'colleagu', 'collect', 'colleg', 'colour', 'com', 'com1win150ppmx3age16', 'combin', 'come', 'comedi', 'common', 'commun', 'comp', 'compani', 'competit', 'complet', 'complimentaryibiza', 'complimentarytenerif', 'comput', 'comuk', 'concentr', 'concert', 'condit', 'confid', 'confirm', 'confus', 'congrat', 'congratul', 'congratulationsaward', 'connect', 'consid', 'constantli', 'contact', 'content', 'continu', 'contract', 'convey', 'convinc', 'cook', 'cool', 'copi', 'cornwal', 'correct', 'cost', 'could', 'count', 'countri', 'coupl', 'courag', 'cours', 'cover', 'coz', 'cr9', 'crab', 'crack', 'cramp', 'crash', 'crave', 'crazi', 'cream', 'creat', 'credit', 'cri', 'cricket', 'cross', 'croydon', 'cruis', 'cs', 'csbcm4235wc1n3xx', 'cud', 'cuddl', 'cum', 'cup', 'current', 'cust', 'custcar', 'custom', 'cut', 'cute', 'cutefrnd', 'cuz', 'cw25wx', 'da', 'dad', 'daddi', 'dai', 'daili', 'damn', 'danc', 'dare', 'dark', 'darl', 'darlin', 'darren', 'dat', 'date', 'dave', 'day', 'de', 'dead', 'deal', 'dear', 'dear1', 'dearer', 'dearli', 'death', 'decemb', 'decid', 'decim', 'decis', 'dedic', 'deep', 'def', 'definit', 'del', 'delay', 'delet', 'deliv', 'deliveredtomorrow', 'deliveri', 'dem', 'den', 'deni', 'depend', 'depress', 'derek', 'despar', 'detail', 'develop', 'dey', 'di', 'diamond', 'dick', 'dictionari', 'didnt', 'die', 'diet', 'diff', 'differ', 'difficult', 'dificult', 'digit', 'digniti', 'din', 'dine', 'dinner', 'dint', 'direct', 'directli', 'dirti', 'disconnect', 'discount', 'discuss', 'dislik', 'display', 'distanc', 'disturb', 'dload', 'dnt', 'doc', 'doctor', 'doesnt', 'dog', 'doggi', 'doin', 'dollar', 'done', 'dont', 'door', 'dot', 'doubl', 'download', 'draw', 'dream', 'dress', 'dresser', 'dri', 'drink', 'drive', 'drivin', 'drop', 'drug', 'drunk', 'dsn', 'dubsack', 'dude', 'due', 'dunno', 'dvd', 'e', 'ear', 'earli', 'earlier', 'earn', 'earth', 'easi', 'easier', 'eat', 'eaten', 'eatin', 'ec2a', 'educ', 'eeri', 'effect', 'eg', 'egg', 'eh', 'eight', 'either', 'els', 'elsewher', 'em', 'email', 'embarass', 'empti', 'end', 'enemi', 'energi', 'eng', 'england', 'english', 'enjoy', 'enough', 'enter', 'entitl', 'entri', 'enuff', 'envelop', 'er', 'erm', 'escap', 'ese', 'especi', 'esplanad', 'essenti', 'etc', 'euro', 'euro2004', 'eve', 'even', 'event', 'ever', 'everi', 'everybodi', 'everyon', 'everyth', 'evn', 'evng', 'ex', 'exact', 'exactli', 'exam', 'excel', 'except', 'excit', 'excus', 'exe', 'execut', 'exhaust', 'expect', 'expens', 'experi', 'expir', 'explain', 'express', 'extra', 'eye', 'f', 'fa', 'face', 'facebook', 'fact', 'fail', 'fair', 'fall', 'famili', 'fan', 'fanci', 'fantasi', 'fantast', 'far', 'farm', 'fast', 'faster', 'fat', 'father', 'fathima', 'fault', 'fave', 'favor', 'favour', 'favourit', 'fb', 'fear', 'feb', 'februari', 'fee', 'feel', 'feet', 'fell', 'felt', 'femal', 'fetch', 'fever', 'fifteen', 'fight', 'fightng', 'figur', 'file', 'fill', 'film', 'final', 'find', 'fine', 'finger', 'finish', 'fire', 'first', 'fish', 'fit', 'five', 'fix', 'flag', 'flake', 'flash', 'flat', 'fli', 'flight', 'flirt', 'floor', 'flow', 'flower', 'fml', 'follow', 'fone', 'food', 'fool', 'footbal', 'forc', 'forchanc', 'foreign', 'forev', 'forevr', 'forget', 'forgot', 'form', 'format', 'forum', 'forward', 'found', 'four', 'fr', 'fran', 'freak', 'free', 'freefon', 'freemsg', 'freephon', 'freez', 'fren', 'fri', 'friday', 'friend', 'friendship', 'fring', 'frm', 'frnd', 'frndship', 'fromm', 'fuck', 'fuckin', 'ful', 'full', 'fullonsm', 'fun', 'funni', 'futur', 'fyi', 'g', 'ga', 'gain', 'gal', 'game', 'gang', 'gap', 'garag', 'garden', 'gari', 'gautham', 'gave', 'gay', 'gd', 'ge', 'gee', 'geeee', 'gener', 'gentl', 'gentleman', 'gentli', 'genuin', 'germani', 'get', 'gettin', 'getz', 'gift', 'gimm', 'girl', 'girlfrnd', 'giv', 'give', 'glad', 'gm', 'gn', 'go', 'goal', 'god', 'goe', 'goin', 'gona', 'gone', 'gonna', 'good', 'goodmorn', 'goodnight', 'goodnit', 'googl', 'gorgeou', 'gossip', 'got', 'goto', 'govt', 'gr8', 'grahmbel', 'gram', 'grand', 'graviti', 'great', 'green', 'greet', 'grin', 'grl', 'ground', 'group', 'grow', 'gt', 'guarante', 'gud', 'gudnit', 'guess', 'guid', 'guilti', 'guy', 'gym', 'ha', 'haf', 'haha', 'hahaha', 'hai', 'hair', 'haiz', 'half', 'halloween', 'ham', 'hand', 'handl', 'handpress', 'handset', 'hang', 'happen', 'happend', 'happi', 'hard', 'hardcor', 'harri', 'hate', 'hav', 'havent', 'havin', 'havnt', 'head', 'headach', 'hear', 'heard', 'heart', 'heavi', 'hee', 'height', 'helen', 'hell', 'hella', 'hello', 'help', 'hesit', 'hex', 'hey', 'hg', 'hi', 'hide', 'high', 'hill', 'hint', 'hip', 'histori', 'hit', 'hiya', 'hl', 'hlinfo', 'hlp', 'hm', 'hmm', 'hmmm', 'hmv', 'ho', 'hockey', 'hol', 'hold', 'holder', 'holi', 'holiday', 'holla', 'home', 'homedinn', 'homeown', 'honey', 'honeybe', 'hook', 'hop', 'hope', 'hor', 'horni', 'horo', 'horribl', 'hospit', 'hostel', 'hot', 'hotel', 'hour', 'hous', 'housew', 'how', 'howard', 'howev', 'howz', 'hppnss', 'hr', 'hrishi', 'hsbc', 'http', 'hubbi', 'hug', 'huge', 'huh', 'human', 'hun', 'hundr', 'hungri', 'hunni', 'hunt', 'hurri', 'hurt', 'husband', 'hv', 'hw', 'hyde', 'ia', 'iam', 'ibh', 'ibhltd', 'ibn', 'ic', 'ice', 'icicibank', 'id', 'idea', 'ideal', 'identifi', 'idew', 'idiot', 'idk', 'ignor', 'ikea', 'il', 'ill', 'im', 'imag', 'imagin', 'imma', 'immedi', 'imp', 'impati', 'import', 'imposs', 'impress', 'improv', 'in2', 'inareajust', 'inc', 'inch', 'incid', 'includ', 'inclus', 'inconsider', 'inconveni', 'incred', 'increment', 'inde', 'independ', 'index', 'india', 'indian', 'indic', 'individu', 'indyarock', 'infect', 'infern', 'info', 'inform', 'informationorang', 'infront', 'ing', 'inlif', 'inning', 'inr', 'insha', 'inshah', 'insid', 'instal', 'instantli', 'instead', 'instituit', 'instruct', 'insur', 'intellig', 'intent', 'interest', 'interflora', 'internet', 'interview', 'intro', 'invadersa', 'invest', 'invit', 'invnt', 'involv', 'iouri', 'ip4', 'ipad', 'ipod', 'iq', 'iron', 'irrit', 'iscomingaward', 'ish', 'island', 'isnt', 'ispap', 'issu', 'italian', 'itcould', 'item', 'itsfault', 'itwhichturnedinto', 'itz', 'ive', 'iz', 'izzit', 'j', 'ja', 'jacket', 'jackpot', 'jada', 'jame', 'jamster', 'jan', 'jane', 'januari', 'japanes', 'jason', 'java', 'jay', 'jaya', 'jazz', 'jd', 'jealou', 'jean', 'jen', 'jenni', 'jerri', 'jess', 'jesu', 'jia', 'jiayin', 'jiu', 'jo', 'joanna', 'job', 'jog', 'john', 'join', 'joke', 'jokin', 'jolli', 'jolt', 'jordan', 'journey', 'joy', 'jsco', 'jst', 'jstfrnd', 'jsut', 'ju', 'juan', 'juici', 'juli', 'june', 'juz', 'k', 'k52', 'kadeem', 'kaiez', 'kalli', 'kano', 'kappa', 'karaok', 'kate', 'kavalan', 'kay', 'kb', 'ke', 'keep', 'kegger', 'kent', 'kept', 'kerala', 'keralacircl', 'kettoda', 'key', 'kg', 'kick', 'kickoff', 'kid', 'kidz', 'kill', 'kind', 'kinda', 'kindli', 'king', 'kiosk', 'kiss', 'kl341', 'knacker', 'knee', 'knew', 'knock', 'know', 'knw', 'konw', 'kothi', 'kr', 'kudi', 'kusruthilov', 'kz', 'l', 'l8r', 'la', 'lab', 'lac', 'ladi', 'lag', 'laid', 'land', 'landlin', 'langport', 'languag', 'laptop', 'lar', 'largest', 'last', 'late', 'later', 'latest', 'latr', 'laugh', 'laundri', 'law', 'lay', 'lazi', 'lccltd', 'ldew', 'ldn', 'ldnw15h', 'le', 'lead', 'learn', 'least', 'leav', 'lect', 'lectur', 'left', 'leg', 'legal', 'leh', 'lei', 'lemm', 'length', 'leona', 'less', 'lesson', 'let', 'letter', 'lf56', 'liao', 'lib', 'librari', 'lick', 'lido', 'lie', 'life', 'lifetim', 'lifpartnr', 'lift', 'light', 'lik', 'like', 'lil', 'lili', 'limit', 'line', 'linerent', 'link', 'lion', 'lionmmono', 'lionppolymor', 'lip', 'list', 'listen', 'liter', 'littl', 'live', 'liverpool', 'lk', 'lmao', 'lo', 'load', 'loan', 'local', 'locat', 'lock', 'lodg', 'log', 'login', 'logo', 'lol', 'london', 'lone', 'long', 'longer', 'look', 'lookatm', 'lookin', 'lookyou', 'loos', 'lor', 'lose', 'loseluvevr', 'loss', 'lost', 'lot', 'lotr', 'lotta', 'lou', 'loud', 'loung', 'lousi', 'lov', 'lovabl', 'love', 'lovem', 'lover', 'loverboy', 'lovingli', 'low', 'lower', 'loxahatche', 'loyal', 'loyalti', 'ls1', 'ls15hb', 'lst', 'lt', 'ltd', 'lttr', 'luci', 'luck', 'lucki', 'lucozad', 'lunch', 'lush', 'luv', 'luxurycanari', 'lv', 'lvblefrnd', 'lyf', 'lyfu', 'lyk', 'm221bp', 'm227xi', 'm26', 'm263uz', 'm6', 'm8', 'm95', 'ma', 'maangalyam', 'mac', 'machan', 'macho', 'mad', 'madam', 'made', 'mag', 'maga', 'magic', 'mah', 'mahal', 'maid', 'mail', 'mailbox', 'mailid', 'main', 'maintain', 'major', 'make', 'makin', 'malaria', 'male', 'mall', 'man', 'manag', 'manda', 'mandan', 'maneesha', 'mani', 'manysome1', 'map', 'march', 'margaret', 'mark', 'market', 'marri', 'marriag', 'massag', 'massiv', 'master', 'match', 'mate', 'math', 'mathemat', 'matrix3', 'matter', 'matur', 'max', 'max10min', 'maximizecash', 'may', 'mayb', 'mca', 'mcat', 'meal', 'mean', 'meant', 'meanwhil', 'measur', 'med', 'medic', 'medicin', 'meemail', 'meet', 'meetdinn', 'meetin', 'mega', 'meh', 'mei', 'mel', 'mell', 'melt', 'melunch', 'member', 'membership', 'memori', 'men', 'mental', 'mention', 'menu', 'meow', 'merri', 'mesag', 'mess', 'messag', 'messeng', 'messi', 'met', 'mi', 'mid', 'middl', 'midnight', 'might', 'mila', 'mile', 'milk', 'million', 'min', 'mind', 'mine', 'mini', 'minimum', 'minmobsmorelkpobox177hp51fl', 'minmoremobsemspobox45po139wa', 'minnaminungint', 'minor', 'minut', 'miracl', 'misbehav', 'miser', 'miss', 'missin', 'mistak', 'mite', 'mitsak', 'mix', 'mm', 'mmm', 'mmmm', 'mmmmm', 'mmmmmm', 'mnth', 'mo', 'moan', 'mob', 'mobi', 'mobil', 'mobilesdirect', 'mobilesvari', 'mobileupd8', 'mobno', 'mode', 'model', 'modul', 'moji', 'mojibiola', 'mokka', 'mom', 'moment', 'mon', 'monday', 'money', 'money1', 'money10', 'money100', 'money1000', 'money1250', 'money1450', 'money150', 'money1500', 'money2', 'money200', 'money2000', 'money250', 'money250k', 'money3', 'money33', 'money350', 'money4', 'money400', 'money5', 'money50', 'money500', 'money5000', 'money6', 'money7', 'money700', 'money75', 'money800', 'money900', 'monkey', 'month', 'monthli', 'mood', 'moon', 'moral', 'morefrmmob', 'morn', 'morphin', 'mostli', 'mother', 'motiv', 'motorola', 'mountain', 'mouth', 'move', 'movi', 'movietrivia', 'mp3', 'mr', 'mrng', 'mrt', 'ms', 'msg', 'msg150p', 'msging', 'msgrcvdhg', 'mt', 'mtalk', 'mth', 'mtmsg', 'mtmsg18', 'mtmsgrcvd18', 'mu', 'muah', 'much', 'mum', 'mummi', 'mumtaz', 'munster', 'murder', 'music', 'must', 'musthu', 'muz', 'mysteri', 'n', 'n9dx', 'na', 'nag', 'nagar', 'nah', 'nahi', 'nake', 'nalla', 'name', 'name1', 'name2', 'nan', 'nanni', 'nap', 'nasdaq', 'nasti', 'nat', 'nat27081980', 'natalja', 'nation', 'natur', 'naughti', 'nd', 'ne', 'near', 'nearli', 'necessari', 'necessarili', 'neck', 'necklac', 'ned', 'need', 'neft', 'neighbor', 'neighbour', 'neither', 'nervou', 'net', 'netcollex', 'network', 'neva', 'never', 'new', 'newest', 'news', 'next', 'ni8', 'nic', 'nice', 'nichol', 'nigeria', 'night', 'nimya', 'nit', 'nite', 'nitro', 'no', 'no1', 'nobodi', 'noe', 'nok', 'nokia', 'nokia6600', 'nokia6650', 'nolin', 'none', 'noon', 'nope', 'norm', 'norm150p', 'normal', 'northampton', 'note', 'noth', 'nothin', 'notic', 'notxt', 'noun', 'nowaday', 'nowchanc', 'nt', 'ntt', 'ntwk', 'nu', 'num', 'number', 'nurungu', 'nuther', 'nvm', 'nw', 'nxt', 'ny', 'nyc', 'nydc', 'nyt', 'o2', 'o2fwd', 'obvious', 'occupi', 'occur', 'odi', 'ofchoic', 'offer', 'offic', 'offici', 'ofheart', 'ofic', 'ofsmil', 'oftear', 'often', 'oh', 'oi', 'oic', 'oil', 'ok', 'okay', 'okey', 'oki', 'ola', 'old', 'omg', 'omw', 'one', 'oni', 'onion', 'onlin', 'onmob', 'onmobil', 'onphon', 'onto', 'onward', 'oop', 'open', 'oper', 'opinion', 'opportun', 'opt', 'option', 'optout', 'or2stoptxt', 'orang', 'orchard', 'order', 'oredi', 'oreo', 'origin', 'oru', 'oso', 'other', 'otherwis', 'outsid', 'outstand', 'outta', 'ovul', 'own', 'oz', 'p', 'pa', 'pack', 'packag', 'page', 'paid', 'pain', 'paper', 'parent', 'pari', 'park', 'part', 'parti', 'partner', 'pass', 'passion', 'password', 'past', 'pay', 'payment', 'pc', 'peac', 'penc', 'pend', 'peopl', 'per', 'perfect', 'perform', 'period', 'person', 'pete', 'petrol', 'pg', 'ph', 'philosophi', 'phne', 'phone', 'phonesfre', 'photo', 'pic', 'pick', 'pictur', 'pie', 'piec', 'pig', 'pilat', 'pin', 'pink', 'piss', 'pix', 'pizza', 'pl', 'place', 'placecook', 'plan', 'plane', 'play', 'player', 'pleas', 'pleasur', 'plenti', 'plu', 'plz', 'pm', 'po', 'pobox', 'pobox334', 'pobox36504w45wq', 'pobox84', 'pocketbab', 'pod', 'point', 'poli', 'polic', 'polyph', 'polyphon', 'pongal', 'poor', 'pop', 'porn', 'posit', 'possess', 'possibl', 'post', 'postcod', 'potenti', 'pound', 'pour', 'pout', 'power', 'ppl', 'pple', 'ppm', 'prabha', 'practic', 'pray', 'predict', 'prefer', 'prepar', 'present', 'press', 'pretti', 'previous', 'prey', 'price', 'princess', 'print', 'privat', 'prize', 'prob', 'probabl', 'problem', 'process', 'profit', 'program', 'project', 'prolli', 'promis', 'proof', 'prospect', 'provid', 'ptbo', 'pub', 'public', 'pull', 'purchas', 'puriti', 'purpos', 'push', 'pussi', 'put', 'q', 'qatar', 'qualiti', 'que', 'queen', 'question', 'quick', 'quickli', 'quit', 'quiz', 'quot', 'r', 'race', 'radio', 'railway', 'rain', 'rais', 'raji', 'rakhesh', 'ralli', 'ran', 'random', 'randomli', 'rang', 'ranjith', 'rate', 'rather', 'ray', 'rcvd', 'rd', 'reach', 'read', 'readi', 'real', 'reali', 'realis', 'realiti', 'realiz', 'realli', 'reason', 'reboot', 'recd', 'receipt', 'receiv', 'recent', 'recharg', 'recognis', 'record', 'red', 'redeem', 'ref', 'refer', 'refus', 'regard', 'regist', 'regret', 'regular', 'relat', 'relax', 'releas', 'rem', 'remain', 'rememb', 'remembr', 'remind', 'remov', 'removehand', 'renew', 'rent', 'rental', 'rentl', 'repair', 'repeat', 'replac', 'repli', 'report', 'repres', 'request', 'requir', 'research', 'reserv', 'respect', 'responc', 'respond', 'respons', 'rest', 'result', 'resum', 'return', 'reveal', 'review', 'reward', 'rich', 'ride', 'right', 'ring', 'rington', 'ringtonek', 'rite', 'road', 'roast', 'rock', 'rofl', 'roger', 'role', 'romant', 'ron', 'room', 'roommat', 'rose', 'round', 'row', 'rs', 'ru', 'ruin', 'rule', 'run', 'rush', 'sachin', 'sad', 'sae', 'safe', 'said', 'salari', 'sale', 'sam', 'santa', 'sat', 'satisfi', 'saturday', 'savamob', 'save', 'saw', 'say', 'scare', 'scari', 'sch', 'schedul', 'school', 'scienc', 'score', 'scotland', 'scream', 'screen', 'se', 'sea', 'search', 'season', 'seat', 'sec', 'second', 'secret', 'sed', 'see', 'seem', 'seen', 'select', 'self', 'sell', 'semest', 'sen', 'send', 'sender', 'sens', 'sent', 'sentenc', 'senthil', 'sept', 'seri', 'seriou', 'serious', 'serv', 'servic', 'set', 'settl', 'seven', 'sex', 'sexi', 'sh', 'sha', 'shag', 'shall', 'shame', 'share', 'shd', 'sheet', 'shesil', 'shi', 'shija', 'ship', 'shirt', 'shit', 'shld', 'shock', 'shoot', 'shop', 'short', 'shortag', 'shorter', 'shortli', 'shot', 'shout', 'shove', 'show', 'shower', 'shuhui', 'shut', 'si', 'sick', 'side', 'sigh', 'sight', 'sign', 'silent', 'sim', 'simpl', 'simpli', 'sinc', 'sing', 'singl', 'sipix', 'sir', 'sister', 'sit', 'site', 'situat', 'six', 'size', 'sk3', 'sk38xh', 'skilgm', 'skillgam', 'sky', 'skype', 'slap', 'slave', 'sleep', 'slept', 'slice', 'slide', 'slipper', 'slow', 'slowli', 'sm', 'small', 'smart', 'smash', 'smile', 'smoke', 'smth', 'sn', 'snake', 'snow', 'social', 'sofa', 'soft', 'softwar', 'sol', 'solv', 'some1', 'somebodi', 'someon', 'someth', 'somethin', 'sometim', 'somewher', 'song', 'soni', 'sonyericsson', 'soon', 'sooner', 'sore', 'sori', 'sorri', 'sorrow', 'sort', 'soryda', 'sound', 'soup', 'sourc', 'south', 'sp', 'space', 'spare', 'speak', 'special', 'speechless', 'speed', 'spell', 'spend', 'spent', 'spk', 'spl', 'spoil', 'spoke', 'spoken', 'spook', 'sport', 'spree', 'spring', 'sri', 'st', 'staff', 'staight', 'stamp', 'stand', 'standard', 'star', 'stare', 'start', 'starv', 'starwars3', 'statement', 'station', 'statu', 'stay', 'stayin', 'std', 'steal', 'steam', 'step', 'stick', 'sticki', 'still', 'stock', 'stockport', 'stomach', 'stomp', 'stone', 'stop', 'stopsm', 'store', 'stori', 'storm', 'straight', 'strang', 'stranger', 'street', 'stress', 'stretch', 'strike', 'strip', 'strong', 'stuck', 'student', 'studi', 'stuf', 'stuff', 'stupid', 'style', 'stylish', 'sub', 'submit', 'subpoli', 'subs16', 'subscrib', 'subscribe6gbp', 'subscriberdrawmoney100', 'subscript', 'success', 'suck', 'sucker', 'sue', 'suffer', 'suffici', 'sugar', 'suggest', 'suit', 'suite342', 'sum', 'sum1', 'summer', 'sumthin', 'sun', 'sunday', 'sunlight', 'sunni', 'sunshin', 'suntec', 'sup', 'super', 'superb', 'superior', 'supervisor', 'suppli', 'support', 'suppos', 'suprman', 'sura', 'sure', 'surf', 'surpris', 'survey', 'sux', 'suzi', 'sw7', 'sw73ss', 'swatch', 'sweet', 'sweetest', 'sweetheart', 'sweeti', 'swim', 'swing', 'swiss', 'switch', 'swoop', 'swt', 'swtheart', 'symbol', 'system', 'ta', 'tabl', 'tablet', 'taco', 'tag', 'tahan', 'take', 'taken', 'taketim', 'takin', 'talent', 'talk', 'tampa', 'tank', 'tap', 'tape', 'tariff', 'tast', 'tat', 'taunton', 'taxi', 'taylor', 'tayseer', 'tb', 'tc', 'tcr', 'tea', 'teach', 'teacher', 'team', 'tear', 'teas', 'tech', 'technic', 'tee', 'teeth', 'tel', 'telephon', 'tell', 'tellfriend', 'telli', 'tellm8', 'tellmat', 'telphon', 'telugu', 'temp', 'templ', 'ten', 'tenant', 'tension', 'term', 'terribl', 'terrif', 'terrorist', 'tessi', 'test', 'text', 'textbuddi', 'textcomp', 'textoper', 'textpod', 'textpoda', 'th', 'thangam', 'thank', 'thanksgiv', 'thanx', 'that', 'theatr', 'theme', 'themob', 'theori', 'there', 'thesi', 'thgt', 'thi', 'thing', 'think', 'thinkin', 'thinksso', 'thk', 'thm', 'thnk', 'tho', 'thot', 'though', 'thought', 'thousand', 'thread', 'threat', 'three', 'threw', 'throat', 'throw', 'thru', 'tht', 'thur', 'thursday', 'thx', 'ti', 'tick', 'ticket', 'tight', 'tih', 'til', 'till', 'time', 'tip', 'tire', 'tirunelvali', 'tirupur', 'tissco', 'titl', 'tiwari', 'tlk', 'tlp', 'tm', 'tmr', 'tmrw', 'tnc', 'toa', 'toclaim', 'today', 'tog', 'togeth', 'tohom', 'tok', 'told', 'toll', 'tom', 'tomail', 'tomarrow', 'tomeandsaid', 'tomo', 'tomobil', 'tomorro', 'tomorrow', 'ton', 'tone', 'tones2u', 'tones2y', 'tonight', 'tonit', 'took', 'tool', 'tooo', 'toot', 'tooth', 'top', 'topic', 'torch', 'tortilla', 'toshiba', 'tot', 'total', 'touch', 'tough', 'tour', 'toward', 'town', 'track', 'trade', 'traffic', 'train', 'transact', 'transfer', 'transfr', 'transport', 'trav', 'travel', 'treat', 'tree', 'tri', 'trip', 'troubl', 'truck', 'true', 'truffl', 'truli', 'trust', 'truth', 'ts', 'tsandc', 'tsc', 'tscs087147403231winawk', 'tsunami', 'tt', 'ttyl', 'tue', 'tuesday', 'tuition', 'tulip', 'turn', 'tv', 'twelv', 'twenti', 'twice', 'twilight', 'two', 'txt', 'txtauction', 'txtin', 'txting', 'txtnono', 'txts6month', 'txtstop', 'txttowin', 'tyler', 'type', 'tyron', 'u', 'u4', 'ubi', 'ugh', 'uh', 'uk', 'umma', 'ummmmmaah', 'un', 'unabl', 'uncl', 'understand', 'understood', 'uni', 'uniqu', 'univers', 'unless', 'unlimit', 'unredeem', 'unsold', 'unsub', 'unsubscrib', 'updat', 'upgrad', 'upload', 'upset', 'upto', 'ur', 'urawinn', 'ure', 'urgent', 'url', 'urn', 'urself', 'us', 'usc', 'use', 'user', 'usf', 'usual', 'utter', 'v', 'valentin', 'valid', 'valid12hr', 'valu', 'vari', 'variou', 'vava', 'veget', 'verifi', 'version', 'vettam', 'via', 'video', 'videochat', 'videophon', 'vijay', 'vikki', 'villag', 'violenc', 'vip', 'virgin', 'visit', 'vl', 'voda', 'vodafon', 'vodka', 'voic', 'voicemail', 'vomit', 'vote', 'voucher', 'vri', 'w', 'w1', 'w111wx', 'w1j6hl', 'w1jhl', 'w45wq', 'wah', 'wait', 'waitm', 'wake', 'wale', 'walk', 'wall', 'wallpap', 'walmart', 'wan', 'wana', 'wanna', 'want', 'wap', 'warm', 'warn', 'warner', 'wast', 'wat', 'watch', 'water', 'wave', 'way', 'wc1n3xx', 'weak', 'wear', 'weather', 'websit', 'wed', 'wednesday', 'weed', 'week', 'weekend', 'weekli', 'weigh', 'weight', 'weird', 'welcom', 'well', 'welp', 'wenlov', 'went', 'wer', 'wesley', 'west', 'westlifey', 'wet', 'what', 'whatev', 'whatstoday', 'whatsup', 'whenev', 'wherev', 'whether', 'white', 'whn', 'who', 'whole', 'whose', 'wid', 'widmat', 'wife', 'wil', 'will', 'win', 'wind', 'window', 'wine', 'winner', 'wipro', 'wisdom', 'wise', 'wish', 'wishin', 'wiskey', 'wit', 'withfriend', 'within', 'without', 'wiv', 'wk', 'wkend', 'wkent', 'wkg', 'wkli', 'wld', 'wml', 'wn', 'wnt', 'wo', 'woke', 'woken', 'woman', 'women', 'wonder', 'wont', 'woot', 'word', 'work', 'workin', 'world', 'worri', 'wors', 'worth', 'wot', 'would', 'wow', 'wrc', 'write', 'wrk', 'wrong', 'ws', 'wt', 'wtf', 'wud', 'wun', 'www', 'wwwtc', 'wyli', 'x', 'xavier', 'xchat', 'xma', 'xuhui', 'xx', 'xxx', 'xxxx', 'xy', 'ya', 'yahoo', 'yan', 'yar', 'yay', 'ye', 'yeah', 'year', 'yeh', 'yep', 'yer', 'yest', 'yesterday', 'yet', 'yetund', 'yiju', 'ym', 'yo', 'yoga', 'yogasana', 'yourcosta', 'yr', 'yummi', 'yun', 'yuo', 'yup', 'zed']\n",
      "[[0 0 0 ... 0 0 0]\n",
      " [0 0 0 ... 0 0 0]\n",
      " [0 0 0 ... 0 0 0]\n",
      " ...\n",
      " [0 0 0 ... 0 0 0]\n",
      " [0 0 0 ... 0 0 0]\n",
      " [0 0 0 ... 0 0 0]]\n"
     ]
    },
    {
     "name": "stderr",
     "output_type": "stream",
     "text": [
      "C:\\Users\\HP\\anaconda3\\lib\\site-packages\\sklearn\\utils\\deprecation.py:87: FutureWarning: Function get_feature_names is deprecated; get_feature_names is deprecated in 1.0 and will be removed in 1.2. Please use get_feature_names_out instead.\n",
      "  warnings.warn(msg, category=FutureWarning)\n"
     ]
    }
   ],
   "source": [
    "print(cv.get_feature_names())\n",
    "print(messages_count.toarray())"
   ]
  },
  {
   "cell_type": "code",
   "execution_count": 27,
   "id": "7fd2c7b6",
   "metadata": {},
   "outputs": [
    {
     "data": {
      "text/plain": [
       "(5572, 3000)"
      ]
     },
     "execution_count": 27,
     "metadata": {},
     "output_type": "execute_result"
    }
   ],
   "source": [
    "#getting shape of messages_count\n",
    "\n",
    "messages_count.shape"
   ]
  },
  {
   "cell_type": "code",
   "execution_count": 28,
   "id": "74888c9a",
   "metadata": {},
   "outputs": [
    {
     "data": {
      "text/plain": [
       "(5572, 3000)"
      ]
     },
     "execution_count": 28,
     "metadata": {},
     "output_type": "execute_result"
    }
   ],
   "source": [
    "from sklearn.feature_extraction.text import TfidfTransformer\n",
    "tft = TfidfTransformer()\n",
    "\n",
    "messages1 = tft.fit_transform(messages_count)\n",
    "messages1.shape"
   ]
  },
  {
   "cell_type": "markdown",
   "id": "087967d8",
   "metadata": {},
   "source": [
    "## Splitting training and testing datasets + solving the imbalanced data"
   ]
  },
  {
   "cell_type": "code",
   "execution_count": 100,
   "id": "b0a61253",
   "metadata": {},
   "outputs": [],
   "source": [
    "#splitting the data into 80% traning and 20% testing\n",
    "from sklearn.model_selection import train_test_split\n",
    "\n",
    "x_train,x_test,y_train,y_test = train_test_split(messages1,df['Spam'],test_size = 0.2,random_state = 42)"
   ]
  },
  {
   "cell_type": "code",
   "execution_count": 101,
   "id": "c4ea6eb7",
   "metadata": {},
   "outputs": [
    {
     "name": "stdout",
     "output_type": "stream",
     "text": [
      "(4457, 3000)\n",
      "(1115, 3000)\n",
      "(4457,)\n",
      "(1115,)\n",
      "Before upsampling count of label 0 3860\n",
      "Before upsampling count of label 1 597\n",
      "Before upsampling count of label 0 965\n",
      "Before upsampling count of label 1 150\n"
     ]
    }
   ],
   "source": [
    "print(x_train.shape)\n",
    "print(x_test.shape)\n",
    "print(y_train.shape)\n",
    "print(y_test.shape)\n",
    "print('Before upsampling count of label 0 {}'.format(sum(y_train==0)))\n",
    "print('Before upsampling count of label 1 {}'.format(sum(y_train==1)))\n",
    "print('Before upsampling count of label 0 {}'.format(sum(y_test==0)))\n",
    "print('Before upsampling count of label 1 {}'.format(sum(y_test==1)))"
   ]
  },
  {
   "cell_type": "code",
   "execution_count": 102,
   "id": "a898a794",
   "metadata": {},
   "outputs": [],
   "source": [
    "from imblearn.over_sampling import SMOTE\n",
    "sm = SMOTE(sampling_strategy = 1, random_state = 42)\n",
    "x_train_s , y_train_s = sm.fit_resample(x_train,y_train.values.ravel())\n",
    "x_test_s , y_test_s = sm.fit_resample(x_test,y_test.values.ravel())"
   ]
  },
  {
   "cell_type": "code",
   "execution_count": 103,
   "id": "dfbe8685",
   "metadata": {},
   "outputs": [
    {
     "name": "stdout",
     "output_type": "stream",
     "text": [
      "After upsampling count of label 0 3860\n",
      "After upsampling count of label 1 3860\n",
      "After upsampling count of label 0 965\n",
      "After upsampling count of label 1 965\n"
     ]
    }
   ],
   "source": [
    "print('After upsampling count of label 0 {}'.format(sum(y_train_s==0)))\n",
    "print('After upsampling count of label 1 {}'.format(sum(y_train_s==1)))\n",
    "print('After upsampling count of label 0 {}'.format(sum(y_test_s==0)))\n",
    "print('After upsampling count of label 1 {}'.format(sum(y_test_s==1)))"
   ]
  },
  {
   "cell_type": "code",
   "execution_count": 104,
   "id": "34e40815",
   "metadata": {},
   "outputs": [],
   "source": [
    "#libraries needed too\n",
    "from sklearn.metrics import classification_report, confusion_matrix, accuracy_score, recall_score, plot_roc_curve\n",
    "from sklearn.model_selection import cross_val_score\n",
    "from statistics import mean\n",
    "pred_scores = []\n"
   ]
  },
  {
   "cell_type": "markdown",
   "id": "e2439338",
   "metadata": {},
   "source": [
    "# 1- Naive Bayes"
   ]
  },
  {
   "cell_type": "code",
   "execution_count": 105,
   "id": "d127daf4",
   "metadata": {},
   "outputs": [
    {
     "name": "stdout",
     "output_type": "stream",
     "text": [
      "Naive Bayes scores [0.97020725 0.9753886  0.9753886  0.98316062 0.98963731 0.98704663\n",
      " 0.9857513  0.98316062 0.98445596 0.98186528]\n",
      "mean of scores 0.9816062176165803\n",
      "              precision    recall  f1-score   support\n",
      "\n",
      "           0       0.99      0.98      0.99      3860\n",
      "           1       0.98      0.99      0.99      3860\n",
      "\n",
      "    accuracy                           0.99      7720\n",
      "   macro avg       0.99      0.99      0.99      7720\n",
      "weighted avg       0.99      0.99      0.99      7720\n",
      "\n",
      "confusion matrix: \n",
      " [[3802   58]\n",
      " [  54 3806]]\n"
     ]
    },
    {
     "name": "stderr",
     "output_type": "stream",
     "text": [
      "C:\\Users\\HP\\anaconda3\\lib\\site-packages\\sklearn\\utils\\deprecation.py:87: FutureWarning: Function plot_roc_curve is deprecated; Function :func:`plot_roc_curve` is deprecated in 1.0 and will be removed in 1.2. Use one of the class methods: :meth:`sklearn.metric.RocCurveDisplay.from_predictions` or :meth:`sklearn.metric.RocCurveDisplay.from_estimator`.\n",
      "  warnings.warn(msg, category=FutureWarning)\n"
     ]
    },
    {
     "data": {
      "text/plain": [
       "<function matplotlib.pyplot.show(close=None, block=None)>"
      ]
     },
     "execution_count": 105,
     "metadata": {},
     "output_type": "execute_result"
    },
    {
     "data": {
      "image/png": "[encoded data removed]",
      "text/plain": [
       "<Figure size 432x288 with 2 Axes>"
      ]
     },
     "metadata": {
      "needs_background": "light"
     },
     "output_type": "display_data"
    }
   ],
   "source": [
    "#create and train the naive bayes classifier\n",
    "\n",
    "from sklearn.naive_bayes import MultinomialNB\n",
    "nb = MultinomialNB()\n",
    "model_naive = nb.fit( x_train_s, y_train_s)\n",
    "scores = cross_val_score(nb, x_train_s, y_train_s,cv=10, n_jobs=-1)\n",
    "print(\"Naive Bayes scores % s\" % scores)\n",
    "print(\"mean of scores % s\" % (mean(scores)))\n",
    "\n",
    "#evaluating the model on training dataset\n",
    "\n",
    "pred = model_naive.predict(x_train_s)\n",
    "print(classification_report(y_train_s, pred))\n",
    "plot_roc_curve(nb,x_train_s,y_train_s)\n",
    "#---#\n",
    "confmatrix = confusion_matrix(y_train_s, pred)\n",
    "print('confusion matrix: \\n', confmatrix)\n",
    "sns.heatmap(confmatrix,annot=True,fmt=\".1f\",linewidths=1.5)\n",
    "plt.xlabel('Predicted Label', fontsize = 15) # x-axis label with fontsize 15\n",
    "plt.ylabel('True Label', fontsize = 15)\n",
    "plt.show\n"
   ]
  },
  {
   "cell_type": "code",
   "execution_count": 106,
   "id": "9c890fb2",
   "metadata": {},
   "outputs": [
    {
     "name": "stdout",
     "output_type": "stream",
     "text": [
      "accuracy:  0.9854922279792746\n",
      "Naive Bayes recall score:= 0.9860103626943005\n"
     ]
    }
   ],
   "source": [
    "print('accuracy: ', accuracy_score(y_train_s, pred))\n",
    "print('Naive Bayes recall score:= {}'.format(recall_score(y_train_s, pred, average='binary')))"
   ]
  },
  {
   "cell_type": "code",
   "execution_count": 107,
   "id": "a433a893",
   "metadata": {},
   "outputs": [],
   "source": [
    "#### now on the test data ##########"
   ]
  },
  {
   "cell_type": "code",
   "execution_count": 108,
   "id": "3dadeacf",
   "metadata": {},
   "outputs": [
    {
     "name": "stdout",
     "output_type": "stream",
     "text": [
      "              precision    recall  f1-score   support\n",
      "\n",
      "           0       0.97      0.97      0.97       965\n",
      "           1       0.97      0.97      0.97       965\n",
      "\n",
      "    accuracy                           0.97      1930\n",
      "   macro avg       0.97      0.97      0.97      1930\n",
      "weighted avg       0.97      0.97      0.97      1930\n",
      "\n",
      "confusion matrix: \n",
      " [[939  26]\n",
      " [ 25 940]]\n"
     ]
    },
    {
     "name": "stderr",
     "output_type": "stream",
     "text": [
      "C:\\Users\\HP\\anaconda3\\lib\\site-packages\\sklearn\\utils\\deprecation.py:87: FutureWarning: Function plot_roc_curve is deprecated; Function :func:`plot_roc_curve` is deprecated in 1.0 and will be removed in 1.2. Use one of the class methods: :meth:`sklearn.metric.RocCurveDisplay.from_predictions` or :meth:`sklearn.metric.RocCurveDisplay.from_estimator`.\n",
      "  warnings.warn(msg, category=FutureWarning)\n"
     ]
    },
    {
     "data": {
      "text/plain": [
       "<function matplotlib.pyplot.show(close=None, block=None)>"
      ]
     },
     "execution_count": 108,
     "metadata": {},
     "output_type": "execute_result"
    },
    {
     "data": {
      "image/png": "[encoded data removed]",
      "text/plain": [
       "<Figure size 432x288 with 2 Axes>"
      ]
     },
     "metadata": {
      "needs_background": "light"
     },
     "output_type": "display_data"
    }
   ],
   "source": [
    "#evaluating the model on test dataset\n",
    "\n",
    "pred = model_naive.predict(x_test_s)\n",
    "print(classification_report(y_test_s, pred))\n",
    "plot_roc_curve(nb, x_test_s, y_test_s)\n",
    "#--#\n",
    "confmatrix = confusion_matrix(y_test_s, pred)\n",
    "print('confusion matrix: \\n', confmatrix)\n",
    "sns.heatmap(confmatrix,annot=True,fmt=\".1f\",linewidths=1.5)\n",
    "plt.xlabel('Predicted Label', fontsize = 15) # x-axis label with fontsize 15\n",
    "plt.ylabel('True Label', fontsize = 15)\n",
    "plt.show"
   ]
  },
  {
   "cell_type": "code",
   "execution_count": 109,
   "id": "ea19e1f8",
   "metadata": {},
   "outputs": [
    {
     "name": "stdout",
     "output_type": "stream",
     "text": [
      "accuracy:  0.9735751295336788\n",
      "Naive Bayes recall score:= 0.9740932642487047\n"
     ]
    }
   ],
   "source": [
    "print('accuracy: ', accuracy_score(y_test_s, pred))\n",
    "print('Naive Bayes recall score:= {}'.format(recall_score(y_test_s, pred, average='binary')))\n",
    "pred_scores.append(('Naive Bayes', recall_score(y_test_s, pred)))"
   ]
  },
  {
   "cell_type": "markdown",
   "id": "2ab75a20",
   "metadata": {},
   "source": [
    "# 2- KNN"
   ]
  },
  {
   "cell_type": "code",
   "execution_count": 110,
   "id": "95e9e288",
   "metadata": {},
   "outputs": [
    {
     "name": "stdout",
     "output_type": "stream",
     "text": [
      "KNN scores [0.98963731 0.99352332 0.99740933 0.99481865 0.99870466 0.99740933\n",
      " 0.99481865 0.99611399 0.99352332 0.99093264]\n",
      "mean of scores 0.9946891191709845\n",
      "[0 1 0 ... 1 1 1]\n",
      "              precision    recall  f1-score   support\n",
      "\n",
      "           0       1.00      0.99      1.00      3860\n",
      "           1       0.99      1.00      1.00      3860\n",
      "\n",
      "    accuracy                           1.00      7720\n",
      "   macro avg       1.00      1.00      1.00      7720\n",
      "weighted avg       1.00      1.00      1.00      7720\n",
      "\n"
     ]
    },
    {
     "name": "stderr",
     "output_type": "stream",
     "text": [
      "C:\\Users\\HP\\anaconda3\\lib\\site-packages\\sklearn\\utils\\deprecation.py:87: FutureWarning: Function plot_roc_curve is deprecated; Function :func:`plot_roc_curve` is deprecated in 1.0 and will be removed in 1.2. Use one of the class methods: :meth:`sklearn.metric.RocCurveDisplay.from_predictions` or :meth:`sklearn.metric.RocCurveDisplay.from_estimator`.\n",
      "  warnings.warn(msg, category=FutureWarning)\n"
     ]
    },
    {
     "name": "stdout",
     "output_type": "stream",
     "text": [
      "confusion matrix: \n",
      " [[3839   21]\n",
      " [   4 3856]]\n"
     ]
    },
    {
     "data": {
      "text/plain": [
       "<function matplotlib.pyplot.show(close=None, block=None)>"
      ]
     },
     "execution_count": 110,
     "metadata": {},
     "output_type": "execute_result"
    },
    {
     "data": {
      "image/png": "[encoded data removed]",
      "text/plain": [
       "<Figure size 432x288 with 2 Axes>"
      ]
     },
     "metadata": {
      "needs_background": "light"
     },
     "output_type": "display_data"
    }
   ],
   "source": [
    "#create and train the KNN classifier\n",
    "\n",
    "from sklearn.neighbors import KNeighborsClassifier\n",
    "KM = KNeighborsClassifier(n_neighbors=5, n_jobs = 1)\n",
    "model_k = KM.fit( x_train_s, y_train_s)\n",
    "scores = cross_val_score(KM, x_train_s, y_train_s,cv=10, n_jobs=-1)\n",
    "print(\"KNN scores % s\" % scores)\n",
    "print(\"mean of scores % s\" % (mean(scores)))\n",
    "\n",
    "#evaluating the model on training dataset\n",
    "\n",
    "pred = model_k.predict(x_train_s)\n",
    "print(pred)\n",
    "print(classification_report(y_train_s, pred))\n",
    "plot_roc_curve(KM,x_train_s,y_train_s)\n",
    "#---#\n",
    "confmatrix = confusion_matrix(y_train_s, pred)\n",
    "print('confusion matrix: \\n', confmatrix)\n",
    "sns.heatmap(confmatrix,annot=True,fmt=\".1f\",linewidths=1.5)\n",
    "plt.xlabel('Predicted Label', fontsize = 15) # x-axis label with fontsize 15\n",
    "plt.ylabel('True Label', fontsize = 15)\n",
    "plt.show"
   ]
  },
  {
   "cell_type": "code",
   "execution_count": 111,
   "id": "23a0d9a1",
   "metadata": {},
   "outputs": [
    {
     "name": "stdout",
     "output_type": "stream",
     "text": [
      "accuracy:  0.9967616580310881\n",
      "KNN recall score:= 0.9989637305699481\n"
     ]
    }
   ],
   "source": [
    "print('accuracy: ', accuracy_score(y_train_s, pred))\n",
    "print('KNN recall score:= {}'.format(recall_score(y_train_s, pred, average='binary')))"
   ]
  },
  {
   "cell_type": "code",
   "execution_count": 112,
   "id": "3dbd42a4",
   "metadata": {},
   "outputs": [],
   "source": [
    "#----now on test data----#"
   ]
  },
  {
   "cell_type": "code",
   "execution_count": 113,
   "id": "4cbd1496",
   "metadata": {},
   "outputs": [
    {
     "name": "stdout",
     "output_type": "stream",
     "text": [
      "              precision    recall  f1-score   support\n",
      "\n",
      "           0       0.81      0.99      0.89       965\n",
      "           1       0.99      0.77      0.87       965\n",
      "\n",
      "    accuracy                           0.88      1930\n",
      "   macro avg       0.90      0.88      0.88      1930\n",
      "weighted avg       0.90      0.88      0.88      1930\n",
      "\n"
     ]
    },
    {
     "name": "stderr",
     "output_type": "stream",
     "text": [
      "C:\\Users\\HP\\anaconda3\\lib\\site-packages\\sklearn\\utils\\deprecation.py:87: FutureWarning: Function plot_roc_curve is deprecated; Function :func:`plot_roc_curve` is deprecated in 1.0 and will be removed in 1.2. Use one of the class methods: :meth:`sklearn.metric.RocCurveDisplay.from_predictions` or :meth:`sklearn.metric.RocCurveDisplay.from_estimator`.\n",
      "  warnings.warn(msg, category=FutureWarning)\n"
     ]
    },
    {
     "name": "stdout",
     "output_type": "stream",
     "text": [
      "confusion matrix: \n",
      " [[960   5]\n",
      " [223 742]]\n"
     ]
    },
    {
     "data": {
      "text/plain": [
       "<function matplotlib.pyplot.show(close=None, block=None)>"
      ]
     },
     "execution_count": 113,
     "metadata": {},
     "output_type": "execute_result"
    },
    {
     "data": {
      "image/png": "[encoded data removed]",
      "text/plain": [
       "<Figure size 432x288 with 2 Axes>"
      ]
     },
     "metadata": {
      "needs_background": "light"
     },
     "output_type": "display_data"
    }
   ],
   "source": [
    "#evaluating the model on test dataset\n",
    "\n",
    "pred = model_k.predict(x_test_s)\n",
    "print(classification_report(y_test_s, pred))\n",
    "plot_roc_curve(KM, x_test_s, y_test_s)\n",
    "#--#\n",
    "confmatrix = confusion_matrix(y_test_s, pred)\n",
    "print('confusion matrix: \\n', confmatrix)\n",
    "sns.heatmap(confmatrix,annot=True,fmt=\".1f\",linewidths=1.5)\n",
    "plt.xlabel('Predicted Label', fontsize = 15) # x-axis label with fontsize 15\n",
    "plt.ylabel('True Label', fontsize = 15)\n",
    "plt.show"
   ]
  },
  {
   "cell_type": "code",
   "execution_count": 114,
   "id": "c3ba35c3",
   "metadata": {},
   "outputs": [
    {
     "name": "stdout",
     "output_type": "stream",
     "text": [
      "accuracy:  0.8818652849740932\n",
      "KNN recall score:= 0.7689119170984456\n"
     ]
    }
   ],
   "source": [
    "print('accuracy: ', accuracy_score(y_test_s, pred))\n",
    "print('KNN recall score:= {}'.format(recall_score(y_test_s, pred, average='binary')))\n",
    "pred_scores.append(('KNN', recall_score(y_test_s, pred)))"
   ]
  },
  {
   "cell_type": "markdown",
   "id": "0e524805",
   "metadata": {},
   "source": [
    "# 3- Support Vector Machine"
   ]
  },
  {
   "cell_type": "code",
   "execution_count": 115,
   "id": "8de2d972",
   "metadata": {},
   "outputs": [
    {
     "name": "stdout",
     "output_type": "stream",
     "text": [
      "SVM scores [0.99740933 0.99481865 0.99870466 1.         1.         0.99740933\n",
      " 1.         1.         0.99870466 1.        ]\n",
      "mean of scores 0.9987046632124352\n",
      "              precision    recall  f1-score   support\n",
      "\n",
      "           0       1.00      1.00      1.00      3860\n",
      "           1       1.00      1.00      1.00      3860\n",
      "\n",
      "    accuracy                           1.00      7720\n",
      "   macro avg       1.00      1.00      1.00      7720\n",
      "weighted avg       1.00      1.00      1.00      7720\n",
      "\n"
     ]
    },
    {
     "name": "stderr",
     "output_type": "stream",
     "text": [
      "C:\\Users\\HP\\anaconda3\\lib\\site-packages\\sklearn\\utils\\deprecation.py:87: FutureWarning: Function plot_roc_curve is deprecated; Function :func:`plot_roc_curve` is deprecated in 1.0 and will be removed in 1.2. Use one of the class methods: :meth:`sklearn.metric.RocCurveDisplay.from_predictions` or :meth:`sklearn.metric.RocCurveDisplay.from_estimator`.\n",
      "  warnings.warn(msg, category=FutureWarning)\n"
     ]
    },
    {
     "name": "stdout",
     "output_type": "stream",
     "text": [
      "confusion matrix: \n",
      " [[3859    1]\n",
      " [   0 3860]]\n"
     ]
    },
    {
     "data": {
      "text/plain": [
       "<function matplotlib.pyplot.show(close=None, block=None)>"
      ]
     },
     "execution_count": 115,
     "metadata": {},
     "output_type": "execute_result"
    },
    {
     "data": {
      "image/png": "[encoded data removed]",
      "text/plain": [
       "<Figure size 432x288 with 2 Axes>"
      ]
     },
     "metadata": {
      "needs_background": "light"
     },
     "output_type": "display_data"
    }
   ],
   "source": [
    "#create and train the SVM classifier\n",
    "\n",
    "from sklearn.svm import SVC\n",
    "SVMm = SVC(kernel='rbf', decision_function_shape='ovr', random_state = 42)\n",
    "model_SVM = SVMm.fit( x_train_s, y_train_s)\n",
    "scores = cross_val_score(SVMm, x_train_s, y_train_s,cv=10, n_jobs=-1)\n",
    "print(\"SVM scores % s\" % scores)\n",
    "print(\"mean of scores % s\" % (mean(scores)))\n",
    "#evaluating the model on training dataset\n",
    "\n",
    "pred = model_SVM.predict(x_train_s)\n",
    "print(classification_report(y_train_s, pred))\n",
    "plot_roc_curve(SVMm,x_train_s,y_train_s)\n",
    "#---#\n",
    "confmatrix = confusion_matrix(y_train_s, pred)\n",
    "print('confusion matrix: \\n', confmatrix)\n",
    "sns.heatmap(confmatrix,annot=True,fmt=\".1f\",linewidths=1.5)\n",
    "plt.xlabel('Predicted Label', fontsize = 15) # x-axis label with fontsize 15\n",
    "plt.ylabel('True Label', fontsize = 15)\n",
    "plt.show"
   ]
  },
  {
   "cell_type": "code",
   "execution_count": 116,
   "id": "6447c308",
   "metadata": {},
   "outputs": [
    {
     "name": "stdout",
     "output_type": "stream",
     "text": [
      "accuracy:  0.9998704663212435\n",
      "SVM recall score:= 1.0\n"
     ]
    }
   ],
   "source": [
    "print('accuracy: ', accuracy_score(y_train_s, pred))\n",
    "print('SVM recall score:= {}'.format(recall_score(y_train_s, pred, average='binary')))"
   ]
  },
  {
   "cell_type": "code",
   "execution_count": 117,
   "id": "83e5120e",
   "metadata": {},
   "outputs": [],
   "source": [
    "#---now on test data---#"
   ]
  },
  {
   "cell_type": "code",
   "execution_count": 118,
   "id": "ff5ca6a6",
   "metadata": {},
   "outputs": [
    {
     "name": "stdout",
     "output_type": "stream",
     "text": [
      "              precision    recall  f1-score   support\n",
      "\n",
      "           0       0.93      1.00      0.96       965\n",
      "           1       1.00      0.93      0.96       965\n",
      "\n",
      "    accuracy                           0.96      1930\n",
      "   macro avg       0.97      0.96      0.96      1930\n",
      "weighted avg       0.97      0.96      0.96      1930\n",
      "\n"
     ]
    },
    {
     "name": "stderr",
     "output_type": "stream",
     "text": [
      "C:\\Users\\HP\\anaconda3\\lib\\site-packages\\sklearn\\utils\\deprecation.py:87: FutureWarning: Function plot_roc_curve is deprecated; Function :func:`plot_roc_curve` is deprecated in 1.0 and will be removed in 1.2. Use one of the class methods: :meth:`sklearn.metric.RocCurveDisplay.from_predictions` or :meth:`sklearn.metric.RocCurveDisplay.from_estimator`.\n",
      "  warnings.warn(msg, category=FutureWarning)\n"
     ]
    },
    {
     "name": "stdout",
     "output_type": "stream",
     "text": [
      "confusion matrix: \n",
      " [[963   2]\n",
      " [ 70 895]]\n"
     ]
    },
    {
     "data": {
      "text/plain": [
       "<function matplotlib.pyplot.show(close=None, block=None)>"
      ]
     },
     "execution_count": 118,
     "metadata": {},
     "output_type": "execute_result"
    },
    {
     "data": {
      "image/png": "[encoded data removed]",
      "text/plain": [
       "<Figure size 432x288 with 2 Axes>"
      ]
     },
     "metadata": {
      "needs_background": "light"
     },
     "output_type": "display_data"
    }
   ],
   "source": [
    "#evaluating the model on test dataset\n",
    "\n",
    "pred = model_SVM.predict(x_test_s)\n",
    "print(classification_report(y_test_s, pred))\n",
    "plot_roc_curve(SVMm, x_test_s, y_test_s)\n",
    "#--#\n",
    "confmatrix = confusion_matrix(y_test_s, pred)\n",
    "print('confusion matrix: \\n', confmatrix)\n",
    "sns.heatmap(confmatrix,annot=True,fmt=\".1f\",linewidths=1.5)\n",
    "plt.xlabel('Predicted Label', fontsize = 15) # x-axis label with fontsize 15\n",
    "plt.ylabel('True Label', fontsize = 15)\n",
    "plt.show"
   ]
  },
  {
   "cell_type": "code",
   "execution_count": 119,
   "id": "0bdfc4fd",
   "metadata": {},
   "outputs": [
    {
     "name": "stdout",
     "output_type": "stream",
     "text": [
      "accuracy:  0.9626943005181348\n",
      "SVM recall score:= 0.927461139896373\n"
     ]
    }
   ],
   "source": [
    "print('accuracy: ', accuracy_score(y_test_s, pred))\n",
    "print('SVM recall score:= {}'.format(recall_score(y_test_s, pred, average='binary')))\n",
    "pred_scores.append(('SVM', recall_score(y_test_s, pred)))"
   ]
  },
  {
   "cell_type": "markdown",
   "id": "050f55ab",
   "metadata": {},
   "source": [
    "# 4- Random Forest"
   ]
  },
  {
   "cell_type": "code",
   "execution_count": 120,
   "id": "34a0e93b",
   "metadata": {},
   "outputs": [
    {
     "name": "stdout",
     "output_type": "stream",
     "text": [
      "Random Forest scores [0.97927461 0.98056995 0.99740933 0.99611399 1.         0.99611399\n",
      " 1.         1.         0.99611399 0.99870466]\n",
      "mean of scores 0.9944300518134715\n",
      "              precision    recall  f1-score   support\n",
      "\n",
      "           0       1.00      1.00      1.00      3860\n",
      "           1       1.00      1.00      1.00      3860\n",
      "\n",
      "    accuracy                           1.00      7720\n",
      "   macro avg       1.00      1.00      1.00      7720\n",
      "weighted avg       1.00      1.00      1.00      7720\n",
      "\n"
     ]
    },
    {
     "name": "stderr",
     "output_type": "stream",
     "text": [
      "C:\\Users\\HP\\anaconda3\\lib\\site-packages\\sklearn\\utils\\deprecation.py:87: FutureWarning: Function plot_roc_curve is deprecated; Function :func:`plot_roc_curve` is deprecated in 1.0 and will be removed in 1.2. Use one of the class methods: :meth:`sklearn.metric.RocCurveDisplay.from_predictions` or :meth:`sklearn.metric.RocCurveDisplay.from_estimator`.\n",
      "  warnings.warn(msg, category=FutureWarning)\n"
     ]
    },
    {
     "name": "stdout",
     "output_type": "stream",
     "text": [
      "confusion matrix: \n",
      " [[3860    0]\n",
      " [   1 3859]]\n"
     ]
    },
    {
     "data": {
      "text/plain": [
       "<function matplotlib.pyplot.show(close=None, block=None)>"
      ]
     },
     "execution_count": 120,
     "metadata": {},
     "output_type": "execute_result"
    },
    {
     "data": {
      "image/png": "[encoded data removed]",
      "text/plain": [
       "<Figure size 432x288 with 2 Axes>"
      ]
     },
     "metadata": {
      "needs_background": "light"
     },
     "output_type": "display_data"
    }
   ],
   "source": [
    "#create and train the Random Forest classifier\n",
    "\n",
    "from sklearn.ensemble import RandomForestClassifier\n",
    "rfc = RandomForestClassifier(n_estimators=50, random_state= 42)\n",
    "model_rf = rfc.fit( x_train_s, y_train_s)\n",
    "scores = cross_val_score(rfc, x_train_s, y_train_s,cv=10, n_jobs=-1)\n",
    "print(\"Random Forest scores % s\" % scores)\n",
    "print(\"mean of scores % s\" % (mean(scores)))\n",
    "\n",
    "#evaluating the model on training dataset\n",
    "\n",
    "pred = model_rf.predict(x_train_s)\n",
    "print(classification_report(y_train_s, pred))\n",
    "plot_roc_curve(rfc,x_train_s,y_train_s)\n",
    "#---#\n",
    "confmatrix = confusion_matrix(y_train_s, pred)\n",
    "print('confusion matrix: \\n', confmatrix)\n",
    "sns.heatmap(confmatrix,annot=True,fmt=\".1f\",linewidths=1.5)\n",
    "plt.xlabel('Predicted Label', fontsize = 15) # x-axis label with fontsize 15\n",
    "plt.ylabel('True Label', fontsize = 15)\n",
    "plt.show"
   ]
  },
  {
   "cell_type": "code",
   "execution_count": 121,
   "id": "d525d9f5",
   "metadata": {},
   "outputs": [
    {
     "name": "stdout",
     "output_type": "stream",
     "text": [
      "accuracy:  0.9998704663212435\n",
      "Random Forest recall score:= 0.9997409326424871\n"
     ]
    }
   ],
   "source": [
    "print('accuracy: ', accuracy_score(y_train_s, pred))\n",
    "print('Random Forest recall score:= {}'.format(recall_score(y_train_s, pred, average='binary')))"
   ]
  },
  {
   "cell_type": "code",
   "execution_count": 122,
   "id": "f5060149",
   "metadata": {},
   "outputs": [],
   "source": [
    "#---now on test data---#"
   ]
  },
  {
   "cell_type": "code",
   "execution_count": 123,
   "id": "5e9c282e",
   "metadata": {},
   "outputs": [
    {
     "name": "stdout",
     "output_type": "stream",
     "text": [
      "              precision    recall  f1-score   support\n",
      "\n",
      "           0       0.97      1.00      0.98       965\n",
      "           1       1.00      0.97      0.98       965\n",
      "\n",
      "    accuracy                           0.98      1930\n",
      "   macro avg       0.98      0.98      0.98      1930\n",
      "weighted avg       0.98      0.98      0.98      1930\n",
      "\n",
      "confusion matrix: \n",
      " [[963   2]\n",
      " [ 30 935]]\n"
     ]
    },
    {
     "name": "stderr",
     "output_type": "stream",
     "text": [
      "C:\\Users\\HP\\anaconda3\\lib\\site-packages\\sklearn\\utils\\deprecation.py:87: FutureWarning: Function plot_roc_curve is deprecated; Function :func:`plot_roc_curve` is deprecated in 1.0 and will be removed in 1.2. Use one of the class methods: :meth:`sklearn.metric.RocCurveDisplay.from_predictions` or :meth:`sklearn.metric.RocCurveDisplay.from_estimator`.\n",
      "  warnings.warn(msg, category=FutureWarning)\n"
     ]
    },
    {
     "data": {
      "text/plain": [
       "<function matplotlib.pyplot.show(close=None, block=None)>"
      ]
     },
     "execution_count": 123,
     "metadata": {},
     "output_type": "execute_result"
    },
    {
     "data": {
      "image/png": "[encoded data removed]",
      "text/plain": [
       "<Figure size 432x288 with 2 Axes>"
      ]
     },
     "metadata": {
      "needs_background": "light"
     },
     "output_type": "display_data"
    }
   ],
   "source": [
    "#evaluating the model on test dataset\n",
    "\n",
    "pred = model_rf.predict(x_test_s)\n",
    "print(classification_report(y_test_s, pred))\n",
    "plot_roc_curve(rfc, x_test_s, y_test_s)\n",
    "#--#\n",
    "confmatrix = confusion_matrix(y_test_s, pred)\n",
    "print('confusion matrix: \\n', confmatrix)\n",
    "sns.heatmap(confmatrix,annot=True,fmt=\".1f\",linewidths=1.5)\n",
    "plt.xlabel('Predicted Label', fontsize = 15) # x-axis label with fontsize 15\n",
    "plt.ylabel('True Label', fontsize = 15)\n",
    "plt.show"
   ]
  },
  {
   "cell_type": "code",
   "execution_count": 124,
   "id": "7f41d5cf",
   "metadata": {},
   "outputs": [
    {
     "name": "stdout",
     "output_type": "stream",
     "text": [
      "accuracy:  0.983419689119171\n",
      "Random Forest recall score:= 0.9689119170984456\n"
     ]
    }
   ],
   "source": [
    "print('accuracy: ', accuracy_score(y_test_s, pred))\n",
    "print('Random Forest recall score:= {}'.format(recall_score(y_test_s, pred, average='binary')))\n",
    "pred_scores.append(('Random Forest', recall_score(y_test_s, pred)))"
   ]
  },
  {
   "cell_type": "markdown",
   "id": "6d380224",
   "metadata": {},
   "source": [
    "# 5- Decision Tree"
   ]
  },
  {
   "cell_type": "code",
   "execution_count": 125,
   "id": "2456266f",
   "metadata": {},
   "outputs": [
    {
     "name": "stdout",
     "output_type": "stream",
     "text": [
      "Decision Tree scores [0.92357513 0.93911917 0.97797927 0.97797927 0.98445596 0.97020725\n",
      " 0.98834197 0.97279793 0.98186528 0.98056995]\n",
      "mean of scores 0.9696891191709844\n",
      "              precision    recall  f1-score   support\n",
      "\n",
      "           0       0.99      1.00      0.99      3860\n",
      "           1       1.00      0.99      0.99      3860\n",
      "\n",
      "    accuracy                           0.99      7720\n",
      "   macro avg       0.99      0.99      0.99      7720\n",
      "weighted avg       0.99      0.99      0.99      7720\n",
      "\n",
      "confusion matrix: \n",
      " [[3856    4]\n",
      " [  56 3804]]\n"
     ]
    },
    {
     "name": "stderr",
     "output_type": "stream",
     "text": [
      "C:\\Users\\HP\\anaconda3\\lib\\site-packages\\sklearn\\utils\\deprecation.py:87: FutureWarning: Function plot_roc_curve is deprecated; Function :func:`plot_roc_curve` is deprecated in 1.0 and will be removed in 1.2. Use one of the class methods: :meth:`sklearn.metric.RocCurveDisplay.from_predictions` or :meth:`sklearn.metric.RocCurveDisplay.from_estimator`.\n",
      "  warnings.warn(msg, category=FutureWarning)\n"
     ]
    },
    {
     "data": {
      "text/plain": [
       "<function matplotlib.pyplot.show(close=None, block=None)>"
      ]
     },
     "execution_count": 125,
     "metadata": {},
     "output_type": "execute_result"
    },
    {
     "data": {
      "image/png": "[encoded data removed]",
      "text/plain": [
       "<Figure size 432x288 with 2 Axes>"
      ]
     },
     "metadata": {
      "needs_background": "light"
     },
     "output_type": "display_data"
    }
   ],
   "source": [
    "#create and train the Decision Tree classifier\n",
    "\n",
    "from sklearn.tree import DecisionTreeClassifier\n",
    "dtc = DecisionTreeClassifier(random_state=42,min_samples_leaf = 2)\n",
    "model_dt = dtc.fit( x_train_s, y_train_s)\n",
    "scores = cross_val_score(dtc, x_train_s, y_train_s,cv=10, n_jobs=-1)\n",
    "print(\"Decision Tree scores % s\" % scores)\n",
    "print(\"mean of scores % s\" % (mean(scores)))\n",
    "\n",
    "#evaluating the model on training dataset\n",
    "\n",
    "pred = model_dt.predict(x_train_s)\n",
    "print(classification_report(y_train_s, pred))\n",
    "plot_roc_curve(dtc,x_train_s,y_train_s)\n",
    "#---#\n",
    "confmatrix = confusion_matrix(y_train_s, pred)\n",
    "print('confusion matrix: \\n', confmatrix)\n",
    "sns.heatmap(confmatrix,annot=True,fmt=\".1f\",linewidths=1.5)\n",
    "plt.xlabel('Predicted Label', fontsize = 15) # x-axis label with fontsize 15\n",
    "plt.ylabel('True Label', fontsize = 15)\n",
    "plt.show"
   ]
  },
  {
   "cell_type": "code",
   "execution_count": 126,
   "id": "372d7d4e",
   "metadata": {},
   "outputs": [
    {
     "name": "stdout",
     "output_type": "stream",
     "text": [
      "accuracy:  0.9922279792746114\n",
      "Decision Tree recall score:= 0.9854922279792746\n"
     ]
    }
   ],
   "source": [
    "print('accuracy: ', accuracy_score(y_train_s, pred))\n",
    "print('Decision Tree recall score:= {}'.format(recall_score(y_train_s, pred, average='binary')))"
   ]
  },
  {
   "cell_type": "code",
   "execution_count": 127,
   "id": "789d8401",
   "metadata": {},
   "outputs": [],
   "source": [
    "#---now on test data---#"
   ]
  },
  {
   "cell_type": "code",
   "execution_count": 128,
   "id": "69639a82",
   "metadata": {},
   "outputs": [
    {
     "name": "stdout",
     "output_type": "stream",
     "text": [
      "              precision    recall  f1-score   support\n",
      "\n",
      "           0       0.94      0.98      0.96       965\n",
      "           1       0.98      0.94      0.96       965\n",
      "\n",
      "    accuracy                           0.96      1930\n",
      "   macro avg       0.96      0.96      0.96      1930\n",
      "weighted avg       0.96      0.96      0.96      1930\n",
      "\n",
      "confusion matrix: \n",
      " [[942  23]\n",
      " [ 62 903]]\n"
     ]
    },
    {
     "name": "stderr",
     "output_type": "stream",
     "text": [
      "C:\\Users\\HP\\anaconda3\\lib\\site-packages\\sklearn\\utils\\deprecation.py:87: FutureWarning: Function plot_roc_curve is deprecated; Function :func:`plot_roc_curve` is deprecated in 1.0 and will be removed in 1.2. Use one of the class methods: :meth:`sklearn.metric.RocCurveDisplay.from_predictions` or :meth:`sklearn.metric.RocCurveDisplay.from_estimator`.\n",
      "  warnings.warn(msg, category=FutureWarning)\n"
     ]
    },
    {
     "data": {
      "text/plain": [
       "<function matplotlib.pyplot.show(close=None, block=None)>"
      ]
     },
     "execution_count": 128,
     "metadata": {},
     "output_type": "execute_result"
    },
    {
     "data": {
      "image/png": "[encoded data removed]",
      "text/plain": [
       "<Figure size 432x288 with 2 Axes>"
      ]
     },
     "metadata": {
      "needs_background": "light"
     },
     "output_type": "display_data"
    }
   ],
   "source": [
    "#evaluating the model on test dataset\n",
    "\n",
    "pred = model_dt.predict(x_test_s)\n",
    "print(classification_report(y_test_s, pred))\n",
    "plot_roc_curve(dtc, x_test_s, y_test_s)\n",
    "#--#\n",
    "confmatrix = confusion_matrix(y_test_s, pred)\n",
    "print('confusion matrix: \\n', confmatrix)\n",
    "sns.heatmap(confmatrix,annot=True,fmt=\".1f\",linewidths=1.5)\n",
    "plt.xlabel('Predicted Label', fontsize = 15) # x-axis label with fontsize 15\n",
    "plt.ylabel('True Label', fontsize = 15)\n",
    "plt.show"
   ]
  },
  {
   "cell_type": "code",
   "execution_count": 129,
   "id": "f7b1754d",
   "metadata": {},
   "outputs": [
    {
     "name": "stdout",
     "output_type": "stream",
     "text": [
      "accuracy:  0.9559585492227979\n",
      "Decision Tree recall score:= 0.9357512953367876\n"
     ]
    }
   ],
   "source": [
    "print('accuracy: ', accuracy_score(y_test_s, pred))\n",
    "print('Decision Tree recall score:= {}'.format(recall_score(y_test_s, pred, average='binary')))\n",
    "pred_scores.append(('Decision Tree', recall_score(y_test_s, pred)))"
   ]
  },
  {
   "cell_type": "markdown",
   "id": "af737a43",
   "metadata": {},
   "source": [
    "# 6- Logistic Regression"
   ]
  },
  {
   "cell_type": "code",
   "execution_count": 130,
   "id": "ccfbafa2",
   "metadata": {},
   "outputs": [
    {
     "name": "stdout",
     "output_type": "stream",
     "text": [
      "Logistic Reg scores [0.9611399  0.97279793 0.98704663 0.98445596 0.99481865 0.97797927\n",
      " 0.9857513  0.98316062 0.98316062 0.98704663]\n",
      "mean of scores 0.9817357512953367\n",
      "              precision    recall  f1-score   support\n",
      "\n",
      "           0       0.99      0.99      0.99      3860\n",
      "           1       0.99      0.99      0.99      3860\n",
      "\n",
      "    accuracy                           0.99      7720\n",
      "   macro avg       0.99      0.99      0.99      7720\n",
      "weighted avg       0.99      0.99      0.99      7720\n",
      "\n",
      "confusion matrix: \n",
      " [[3825   35]\n",
      " [  54 3806]]\n"
     ]
    },
    {
     "name": "stderr",
     "output_type": "stream",
     "text": [
      "C:\\Users\\HP\\anaconda3\\lib\\site-packages\\sklearn\\utils\\deprecation.py:87: FutureWarning: Function plot_roc_curve is deprecated; Function :func:`plot_roc_curve` is deprecated in 1.0 and will be removed in 1.2. Use one of the class methods: :meth:`sklearn.metric.RocCurveDisplay.from_predictions` or :meth:`sklearn.metric.RocCurveDisplay.from_estimator`.\n",
      "  warnings.warn(msg, category=FutureWarning)\n"
     ]
    },
    {
     "data": {
      "text/plain": [
       "<function matplotlib.pyplot.show(close=None, block=None)>"
      ]
     },
     "execution_count": 130,
     "metadata": {},
     "output_type": "execute_result"
    },
    {
     "data": {
      "image/png": "[encoded data removed]",
      "text/plain": [
       "<Figure size 432x288 with 2 Axes>"
      ]
     },
     "metadata": {
      "needs_background": "light"
     },
     "output_type": "display_data"
    }
   ],
   "source": [
    "#create and train the LR classifier\n",
    "\n",
    "from sklearn.linear_model import LogisticRegression\n",
    "lrc = LogisticRegression(solver='liblinear', penalty='l1', random_state = 42)\n",
    "model_lr = lrc.fit( x_train_s, y_train_s)\n",
    "scores = cross_val_score(lrc, x_train_s, y_train_s,cv=10, n_jobs=-1)\n",
    "print(\"Logistic Reg scores % s\" % scores)\n",
    "print(\"mean of scores % s\" % (mean(scores)))\n",
    "\n",
    "#evaluating the model on training dataset\n",
    "\n",
    "pred = model_lr.predict(x_train_s)\n",
    "print(classification_report(y_train_s, pred))\n",
    "plot_roc_curve(lrc,x_train_s,y_train_s)\n",
    "#---#\n",
    "confmatrix = confusion_matrix(y_train_s, pred)\n",
    "print('confusion matrix: \\n', confmatrix)\n",
    "sns.heatmap(confmatrix,annot=True,fmt=\".1f\",linewidths=1.5)\n",
    "plt.xlabel('Predicted Label', fontsize = 15) # x-axis label with fontsize 15\n",
    "plt.ylabel('True Label', fontsize = 15)\n",
    "plt.show"
   ]
  },
  {
   "cell_type": "code",
   "execution_count": 131,
   "id": "0d54c914",
   "metadata": {},
   "outputs": [
    {
     "name": "stdout",
     "output_type": "stream",
     "text": [
      "accuracy:  0.9884715025906736\n",
      "Logistic Regression recall score:= 0.9860103626943005\n"
     ]
    }
   ],
   "source": [
    "print('accuracy: ', accuracy_score(y_train_s, pred))\n",
    "print('Logistic Regression recall score:= {}'.format(recall_score(y_train_s, pred, average='binary')))"
   ]
  },
  {
   "cell_type": "code",
   "execution_count": 132,
   "id": "69cc94e2",
   "metadata": {},
   "outputs": [],
   "source": [
    "#---now on test data---#"
   ]
  },
  {
   "cell_type": "code",
   "execution_count": 133,
   "id": "1ce056f0",
   "metadata": {},
   "outputs": [
    {
     "name": "stdout",
     "output_type": "stream",
     "text": [
      "              precision    recall  f1-score   support\n",
      "\n",
      "           0       0.94      0.98      0.96       965\n",
      "           1       0.98      0.93      0.96       965\n",
      "\n",
      "    accuracy                           0.96      1930\n",
      "   macro avg       0.96      0.96      0.96      1930\n",
      "weighted avg       0.96      0.96      0.96      1930\n",
      "\n",
      "confusion matrix: \n",
      " [[947  18]\n",
      " [ 64 901]]\n"
     ]
    },
    {
     "name": "stderr",
     "output_type": "stream",
     "text": [
      "C:\\Users\\HP\\anaconda3\\lib\\site-packages\\sklearn\\utils\\deprecation.py:87: FutureWarning: Function plot_roc_curve is deprecated; Function :func:`plot_roc_curve` is deprecated in 1.0 and will be removed in 1.2. Use one of the class methods: :meth:`sklearn.metric.RocCurveDisplay.from_predictions` or :meth:`sklearn.metric.RocCurveDisplay.from_estimator`.\n",
      "  warnings.warn(msg, category=FutureWarning)\n"
     ]
    },
    {
     "data": {
      "text/plain": [
       "<function matplotlib.pyplot.show(close=None, block=None)>"
      ]
     },
     "execution_count": 133,
     "metadata": {},
     "output_type": "execute_result"
    },
    {
     "data": {
      "image/png": "[encoded data removed]",
      "text/plain": [
       "<Figure size 432x288 with 2 Axes>"
      ]
     },
     "metadata": {
      "needs_background": "light"
     },
     "output_type": "display_data"
    }
   ],
   "source": [
    "#evaluating the model on test dataset\n",
    "\n",
    "pred = model_lr.predict(x_test_s)\n",
    "print(classification_report(y_test_s, pred))\n",
    "plot_roc_curve(lrc, x_test_s, y_test_s)\n",
    "#--#\n",
    "confmatrix = confusion_matrix(y_test_s, pred)\n",
    "print('confusion matrix: \\n', confmatrix)\n",
    "sns.heatmap(confmatrix,annot=True,fmt=\".1f\",linewidths=1.5)\n",
    "plt.xlabel('Predicted Label', fontsize = 15) # x-axis label with fontsize 15\n",
    "plt.ylabel('True Label', fontsize = 15)\n",
    "plt.show"
   ]
  },
  {
   "cell_type": "code",
   "execution_count": 134,
   "id": "439b0c25",
   "metadata": {},
   "outputs": [
    {
     "name": "stdout",
     "output_type": "stream",
     "text": [
      "accuracy:  0.9575129533678757\n",
      "Logistic Regression recall score:= 0.933678756476684\n"
     ]
    }
   ],
   "source": [
    "print('accuracy: ', accuracy_score(y_test_s, pred))\n",
    "print('Logistic Regression recall score:= {}'.format(recall_score(y_test_s, pred, average='binary')))\n",
    "pred_scores.append(('Logistic Reg.', recall_score(y_test_s, pred)))"
   ]
  },
  {
   "cell_type": "markdown",
   "id": "e9ad1898",
   "metadata": {},
   "source": [
    "# 7- Adaboost"
   ]
  },
  {
   "cell_type": "code",
   "execution_count": 135,
   "id": "4eced70c",
   "metadata": {},
   "outputs": [
    {
     "name": "stdout",
     "output_type": "stream",
     "text": [
      "Adaboost scores [0.94430052 0.95725389 0.9857513  0.99093264 0.99352332 0.98445596\n",
      " 0.99352332 0.99481865 0.98704663 0.99093264]\n",
      "mean of scores 0.9822538860103627\n",
      "              precision    recall  f1-score   support\n",
      "\n",
      "           0       0.98      0.99      0.99      3860\n",
      "           1       0.99      0.98      0.99      3860\n",
      "\n",
      "    accuracy                           0.99      7720\n",
      "   macro avg       0.99      0.99      0.99      7720\n",
      "weighted avg       0.99      0.99      0.99      7720\n",
      "\n",
      "confusion matrix: \n",
      " [[3823   37]\n",
      " [  72 3788]]\n"
     ]
    },
    {
     "name": "stderr",
     "output_type": "stream",
     "text": [
      "C:\\Users\\HP\\anaconda3\\lib\\site-packages\\sklearn\\utils\\deprecation.py:87: FutureWarning: Function plot_roc_curve is deprecated; Function :func:`plot_roc_curve` is deprecated in 1.0 and will be removed in 1.2. Use one of the class methods: :meth:`sklearn.metric.RocCurveDisplay.from_predictions` or :meth:`sklearn.metric.RocCurveDisplay.from_estimator`.\n",
      "  warnings.warn(msg, category=FutureWarning)\n"
     ]
    },
    {
     "data": {
      "text/plain": [
       "<function matplotlib.pyplot.show(close=None, block=None)>"
      ]
     },
     "execution_count": 135,
     "metadata": {},
     "output_type": "execute_result"
    },
    {
     "data": {
      "image/png": "[encoded data removed]",
      "text/plain": [
       "<Figure size 432x288 with 2 Axes>"
      ]
     },
     "metadata": {
      "needs_background": "light"
     },
     "output_type": "display_data"
    }
   ],
   "source": [
    "#create and train the LR classifier\n",
    "\n",
    "from sklearn.ensemble import AdaBoostClassifier\n",
    "adc = AdaBoostClassifier(n_estimators=50, random_state = 42)\n",
    "model_ada = adc.fit( x_train_s, y_train_s)\n",
    "scores = cross_val_score(adc, x_train_s, y_train_s,cv=10, n_jobs=-1)\n",
    "print(\"Adaboost scores % s\" % scores)\n",
    "print(\"mean of scores % s\" % (mean(scores)))\n",
    "\n",
    "#evaluating the model on training dataset\n",
    "\n",
    "pred = model_ada.predict(x_train_s)\n",
    "print(classification_report(y_train_s, pred))\n",
    "plot_roc_curve(adc,x_train_s,y_train_s)\n",
    "#---#\n",
    "confmatrix = confusion_matrix(y_train_s, pred)\n",
    "print('confusion matrix: \\n', confmatrix)\n",
    "sns.heatmap(confmatrix,annot=True,fmt=\".1f\",linewidths=1.5)\n",
    "plt.xlabel('Predicted Label', fontsize = 15) # x-axis label with fontsize 15\n",
    "plt.ylabel('True Label', fontsize = 15)\n",
    "plt.show"
   ]
  },
  {
   "cell_type": "code",
   "execution_count": 136,
   "id": "0fa67cca",
   "metadata": {},
   "outputs": [
    {
     "name": "stdout",
     "output_type": "stream",
     "text": [
      "accuracy:  0.9858808290155441\n",
      "Adaboost recall score:= 0.9813471502590674\n"
     ]
    }
   ],
   "source": [
    "print('accuracy: ', accuracy_score(y_train_s, pred))\n",
    "print('Adaboost recall score:= {}'.format(recall_score(y_train_s, pred, average='binary')))"
   ]
  },
  {
   "cell_type": "code",
   "execution_count": 137,
   "id": "a1e524d1",
   "metadata": {},
   "outputs": [],
   "source": [
    "#--- now on test data---#"
   ]
  },
  {
   "cell_type": "code",
   "execution_count": 138,
   "id": "3831f38c",
   "metadata": {},
   "outputs": [
    {
     "name": "stdout",
     "output_type": "stream",
     "text": [
      "              precision    recall  f1-score   support\n",
      "\n",
      "           0       0.96      0.99      0.97       965\n",
      "           1       0.99      0.96      0.97       965\n",
      "\n",
      "    accuracy                           0.97      1930\n",
      "   macro avg       0.97      0.97      0.97      1930\n",
      "weighted avg       0.97      0.97      0.97      1930\n",
      "\n",
      "confusion matrix: \n",
      " [[952  13]\n",
      " [ 43 922]]\n"
     ]
    },
    {
     "name": "stderr",
     "output_type": "stream",
     "text": [
      "C:\\Users\\HP\\anaconda3\\lib\\site-packages\\sklearn\\utils\\deprecation.py:87: FutureWarning: Function plot_roc_curve is deprecated; Function :func:`plot_roc_curve` is deprecated in 1.0 and will be removed in 1.2. Use one of the class methods: :meth:`sklearn.metric.RocCurveDisplay.from_predictions` or :meth:`sklearn.metric.RocCurveDisplay.from_estimator`.\n",
      "  warnings.warn(msg, category=FutureWarning)\n"
     ]
    },
    {
     "data": {
      "text/plain": [
       "<function matplotlib.pyplot.show(close=None, block=None)>"
      ]
     },
     "execution_count": 138,
     "metadata": {},
     "output_type": "execute_result"
    },
    {
     "data": {
      "image/png": "[encoded data removed]",
      "text/plain": [
       "<Figure size 432x288 with 2 Axes>"
      ]
     },
     "metadata": {
      "needs_background": "light"
     },
     "output_type": "display_data"
    }
   ],
   "source": [
    "#evaluating the model on test dataset\n",
    "\n",
    "pred = model_ada.predict(x_test_s)\n",
    "print(classification_report(y_test_s, pred))\n",
    "plot_roc_curve(adc, x_test_s, y_test_s)\n",
    "#--#\n",
    "confmatrix = confusion_matrix(y_test_s, pred)\n",
    "print('confusion matrix: \\n', confmatrix)\n",
    "sns.heatmap(confmatrix,annot=True,fmt=\".1f\",linewidths=1.5)\n",
    "plt.xlabel('Predicted Label', fontsize = 15) # x-axis label with fontsize 15\n",
    "plt.ylabel('True Label', fontsize = 15)\n",
    "plt.show"
   ]
  },
  {
   "cell_type": "code",
   "execution_count": 139,
   "id": "ba45e662",
   "metadata": {},
   "outputs": [
    {
     "name": "stdout",
     "output_type": "stream",
     "text": [
      "accuracy:  0.9709844559585492\n",
      "Adaboost recall score:= 0.9554404145077721\n"
     ]
    }
   ],
   "source": [
    "print('accuracy: ', accuracy_score(y_test_s, pred))\n",
    "print('Adaboost recall score:= {}'.format(recall_score(y_test_s, pred, average='binary')))\n",
    "pred_scores.append(('AdaBoost', recall_score(y_test_s, pred)))"
   ]
  },
  {
   "cell_type": "markdown",
   "id": "8efc813b",
   "metadata": {},
   "source": [
    "# 8- Bagging"
   ]
  },
  {
   "cell_type": "code",
   "execution_count": 140,
   "id": "e07675b6",
   "metadata": {},
   "outputs": [
    {
     "name": "stdout",
     "output_type": "stream",
     "text": [
      "Bagging scores [0.95466321 0.9611399  0.98056995 0.98445596 0.98704663 0.97927461\n",
      " 0.98834197 0.97797927 0.9857513  0.98445596]\n",
      "mean of scores 0.9783678756476684\n",
      "              precision    recall  f1-score   support\n",
      "\n",
      "           0       1.00      1.00      1.00      3860\n",
      "           1       1.00      1.00      1.00      3860\n",
      "\n",
      "    accuracy                           1.00      7720\n",
      "   macro avg       1.00      1.00      1.00      7720\n",
      "weighted avg       1.00      1.00      1.00      7720\n",
      "\n"
     ]
    },
    {
     "name": "stderr",
     "output_type": "stream",
     "text": [
      "C:\\Users\\HP\\anaconda3\\lib\\site-packages\\sklearn\\utils\\deprecation.py:87: FutureWarning: Function plot_roc_curve is deprecated; Function :func:`plot_roc_curve` is deprecated in 1.0 and will be removed in 1.2. Use one of the class methods: :meth:`sklearn.metric.RocCurveDisplay.from_predictions` or :meth:`sklearn.metric.RocCurveDisplay.from_estimator`.\n",
      "  warnings.warn(msg, category=FutureWarning)\n"
     ]
    },
    {
     "name": "stdout",
     "output_type": "stream",
     "text": [
      "confusion matrix: \n",
      " [[3860    0]\n",
      " [   1 3859]]\n"
     ]
    },
    {
     "data": {
      "text/plain": [
       "<function matplotlib.pyplot.show(close=None, block=None)>"
      ]
     },
     "execution_count": 140,
     "metadata": {},
     "output_type": "execute_result"
    },
    {
     "data": {
      "image/png": "[encoded data removed]",
      "text/plain": [
       "<Figure size 432x288 with 2 Axes>"
      ]
     },
     "metadata": {
      "needs_background": "light"
     },
     "output_type": "display_data"
    }
   ],
   "source": [
    "#create and train the bagging classifier\n",
    "\n",
    "from sklearn.ensemble import BaggingClassifier\n",
    "bgc = BaggingClassifier(n_estimators=50, random_state = 42)\n",
    "model_bc = bgc.fit( x_train_s, y_train_s)\n",
    "scores = cross_val_score(bgc, x_train_s, y_train_s,cv=10, n_jobs=-1)\n",
    "print(\"Bagging scores % s\" % scores)\n",
    "print(\"mean of scores % s\" % (mean(scores)))\n",
    "\n",
    "#evaluating the model on training dataset\n",
    "\n",
    "pred = model_bc.predict(x_train_s)\n",
    "print(classification_report(y_train_s, pred))\n",
    "plot_roc_curve(bgc,x_train_s,y_train_s)\n",
    "#---#\n",
    "confmatrix = confusion_matrix(y_train_s, pred)\n",
    "print('confusion matrix: \\n', confmatrix)\n",
    "sns.heatmap(confmatrix,annot=True,fmt=\".1f\",linewidths=1.5)\n",
    "plt.xlabel('Predicted Label', fontsize = 15) # x-axis label with fontsize 15\n",
    "plt.ylabel('True Label', fontsize = 15)\n",
    "plt.show"
   ]
  },
  {
   "cell_type": "code",
   "execution_count": 141,
   "id": "f4832757",
   "metadata": {},
   "outputs": [
    {
     "name": "stdout",
     "output_type": "stream",
     "text": [
      "accuracy:  0.9998704663212435\n",
      "bagging recall score:= 0.9997409326424871\n"
     ]
    }
   ],
   "source": [
    "print('accuracy: ', accuracy_score(y_train_s, pred))\n",
    "print('bagging recall score:= {}'.format(recall_score(y_train_s, pred, average='binary')))"
   ]
  },
  {
   "cell_type": "code",
   "execution_count": 142,
   "id": "a686d7b3",
   "metadata": {},
   "outputs": [],
   "source": [
    "#---now on test data---#"
   ]
  },
  {
   "cell_type": "code",
   "execution_count": 143,
   "id": "d011bf05",
   "metadata": {},
   "outputs": [
    {
     "name": "stdout",
     "output_type": "stream",
     "text": [
      "              precision    recall  f1-score   support\n",
      "\n",
      "           0       0.97      0.98      0.97       965\n",
      "           1       0.98      0.97      0.97       965\n",
      "\n",
      "    accuracy                           0.97      1930\n",
      "   macro avg       0.97      0.97      0.97      1930\n",
      "weighted avg       0.97      0.97      0.97      1930\n",
      "\n",
      "confusion matrix: \n",
      " [[942  23]\n",
      " [ 30 935]]\n"
     ]
    },
    {
     "name": "stderr",
     "output_type": "stream",
     "text": [
      "C:\\Users\\HP\\anaconda3\\lib\\site-packages\\sklearn\\utils\\deprecation.py:87: FutureWarning: Function plot_roc_curve is deprecated; Function :func:`plot_roc_curve` is deprecated in 1.0 and will be removed in 1.2. Use one of the class methods: :meth:`sklearn.metric.RocCurveDisplay.from_predictions` or :meth:`sklearn.metric.RocCurveDisplay.from_estimator`.\n",
      "  warnings.warn(msg, category=FutureWarning)\n"
     ]
    },
    {
     "data": {
      "text/plain": [
       "<function matplotlib.pyplot.show(close=None, block=None)>"
      ]
     },
     "execution_count": 143,
     "metadata": {},
     "output_type": "execute_result"
    },
    {
     "data": {
      "image/png": "[encoded data removed]",
      "text/plain": [
       "<Figure size 432x288 with 2 Axes>"
      ]
     },
     "metadata": {
      "needs_background": "light"
     },
     "output_type": "display_data"
    }
   ],
   "source": [
    "#evaluating the model on test dataset\n",
    "\n",
    "pred = model_bc.predict(x_test_s)\n",
    "print(classification_report(y_test_s, pred))\n",
    "plot_roc_curve(bgc, x_test_s, y_test_s)\n",
    "#--#\n",
    "confmatrix = confusion_matrix(y_test_s, pred)\n",
    "print('confusion matrix: \\n', confmatrix)\n",
    "sns.heatmap(confmatrix,annot=True,fmt=\".1f\",linewidths=1.5)\n",
    "plt.xlabel('Predicted Label', fontsize = 15) # x-axis label with fontsize 15\n",
    "plt.ylabel('True Label', fontsize = 15)\n",
    "plt.show"
   ]
  },
  {
   "cell_type": "code",
   "execution_count": 144,
   "id": "02457f9b",
   "metadata": {},
   "outputs": [
    {
     "name": "stdout",
     "output_type": "stream",
     "text": [
      "accuracy:  0.9725388601036269\n",
      "bagging recall score:= 0.9689119170984456\n"
     ]
    }
   ],
   "source": [
    "print('accuracy: ', accuracy_score(y_test_s, pred))\n",
    "print('bagging recall score:= {}'.format(recall_score(y_test_s, pred, average='binary')))\n",
    "pred_scores.append(('Bagging', recall_score(y_test_s, pred)))"
   ]
  },
  {
   "cell_type": "markdown",
   "id": "0b34bdc1",
   "metadata": {},
   "source": [
    "# 9- Extra Trees"
   ]
  },
  {
   "cell_type": "code",
   "execution_count": 146,
   "id": "047763e9",
   "metadata": {},
   "outputs": [
    {
     "name": "stdout",
     "output_type": "stream",
     "text": [
      "Extra Trees scores [0.98963731 0.98963731 0.99611399 1.         0.99870466 1.\n",
      " 1.         0.99740933 0.99740933 1.        ]\n",
      "mean of scores 0.9968911917098445\n",
      "              precision    recall  f1-score   support\n",
      "\n",
      "           0       1.00      1.00      1.00      3860\n",
      "           1       1.00      1.00      1.00      3860\n",
      "\n",
      "    accuracy                           1.00      7720\n",
      "   macro avg       1.00      1.00      1.00      7720\n",
      "weighted avg       1.00      1.00      1.00      7720\n",
      "\n"
     ]
    },
    {
     "name": "stderr",
     "output_type": "stream",
     "text": [
      "C:\\Users\\HP\\anaconda3\\lib\\site-packages\\sklearn\\utils\\deprecation.py:87: FutureWarning: Function plot_roc_curve is deprecated; Function :func:`plot_roc_curve` is deprecated in 1.0 and will be removed in 1.2. Use one of the class methods: :meth:`sklearn.metric.RocCurveDisplay.from_predictions` or :meth:`sklearn.metric.RocCurveDisplay.from_estimator`.\n",
      "  warnings.warn(msg, category=FutureWarning)\n"
     ]
    },
    {
     "name": "stdout",
     "output_type": "stream",
     "text": [
      "confusion matrix: \n",
      " [[3860    0]\n",
      " [   1 3859]]\n"
     ]
    },
    {
     "data": {
      "text/plain": [
       "<function matplotlib.pyplot.show(close=None, block=None)>"
      ]
     },
     "execution_count": 146,
     "metadata": {},
     "output_type": "execute_result"
    },
    {
     "data": {
      "image/png": "[encoded data removed]",
      "text/plain": [
       "<Figure size 432x288 with 2 Axes>"
      ]
     },
     "metadata": {
      "needs_background": "light"
     },
     "output_type": "display_data"
    }
   ],
   "source": [
    "#create and train the Extra Trees classifier\n",
    "\n",
    "from sklearn.ensemble import ExtraTreesClassifier\n",
    "etc = ExtraTreesClassifier(n_estimators=50, random_state=111)\n",
    "model_et = etc.fit( x_train_s, y_train_s)\n",
    "scores = cross_val_score(etc, x_train_s, y_train_s,cv=10, n_jobs=-1)\n",
    "print(\"Extra Trees scores % s\" % scores)\n",
    "print(\"mean of scores % s\" % (mean(scores)))\n",
    "\n",
    "#evaluating the model on training dataset\n",
    "\n",
    "pred = model_et.predict(x_train_s)\n",
    "print(classification_report(y_train_s, pred))\n",
    "plot_roc_curve(etc,x_train_s,y_train_s)\n",
    "#---#\n",
    "confmatrix = confusion_matrix(y_train_s, pred)\n",
    "print('confusion matrix: \\n', confmatrix)\n",
    "sns.heatmap(confmatrix,annot=True,fmt=\".1f\",linewidths=1.5)\n",
    "plt.xlabel('Predicted Label', fontsize = 15) # x-axis label with fontsize 15\n",
    "plt.ylabel('True Label', fontsize = 15)\n",
    "plt.show"
   ]
  },
  {
   "cell_type": "code",
   "execution_count": 147,
   "id": "b37cf2b6",
   "metadata": {},
   "outputs": [
    {
     "name": "stdout",
     "output_type": "stream",
     "text": [
      "accuracy:  0.9998704663212435\n",
      "Extra Trees recall score:= 0.9997409326424871\n"
     ]
    }
   ],
   "source": [
    "print('accuracy: ', accuracy_score(y_train_s, pred))\n",
    "print('Extra Trees recall score:= {}'.format(recall_score(y_train_s, pred, average='binary')))"
   ]
  },
  {
   "cell_type": "code",
   "execution_count": 148,
   "id": "0d3499e6",
   "metadata": {},
   "outputs": [],
   "source": [
    "#---now on test data---#"
   ]
  },
  {
   "cell_type": "code",
   "execution_count": 149,
   "id": "10931724",
   "metadata": {},
   "outputs": [
    {
     "name": "stdout",
     "output_type": "stream",
     "text": [
      "              precision    recall  f1-score   support\n",
      "\n",
      "           0       0.97      0.98      0.97       965\n",
      "           1       0.98      0.97      0.97       965\n",
      "\n",
      "    accuracy                           0.97      1930\n",
      "   macro avg       0.97      0.97      0.97      1930\n",
      "weighted avg       0.97      0.97      0.97      1930\n",
      "\n",
      "confusion matrix: \n",
      " [[942  23]\n",
      " [ 30 935]]\n"
     ]
    },
    {
     "name": "stderr",
     "output_type": "stream",
     "text": [
      "C:\\Users\\HP\\anaconda3\\lib\\site-packages\\sklearn\\utils\\deprecation.py:87: FutureWarning: Function plot_roc_curve is deprecated; Function :func:`plot_roc_curve` is deprecated in 1.0 and will be removed in 1.2. Use one of the class methods: :meth:`sklearn.metric.RocCurveDisplay.from_predictions` or :meth:`sklearn.metric.RocCurveDisplay.from_estimator`.\n",
      "  warnings.warn(msg, category=FutureWarning)\n"
     ]
    },
    {
     "data": {
      "text/plain": [
       "<function matplotlib.pyplot.show(close=None, block=None)>"
      ]
     },
     "execution_count": 149,
     "metadata": {},
     "output_type": "execute_result"
    },
    {
     "data": {
      "image/png": "[encoded data removed]",
      "text/plain": [
       "<Figure size 432x288 with 2 Axes>"
      ]
     },
     "metadata": {
      "needs_background": "light"
     },
     "output_type": "display_data"
    }
   ],
   "source": [
    "#evaluating the model on test dataset\n",
    "\n",
    "pred = model_bc.predict(x_test_s)\n",
    "print(classification_report(y_test_s, pred))\n",
    "plot_roc_curve(etc, x_test_s, y_test_s)\n",
    "#--#\n",
    "confmatrix = confusion_matrix(y_test_s, pred)\n",
    "print('confusion matrix: \\n', confmatrix)\n",
    "sns.heatmap(confmatrix,annot=True,fmt=\".1f\",linewidths=1.5)\n",
    "plt.xlabel('Predicted Label', fontsize = 15) # x-axis label with fontsize 15\n",
    "plt.ylabel('True Label', fontsize = 15)\n",
    "plt.show"
   ]
  },
  {
   "cell_type": "code",
   "execution_count": 150,
   "id": "a657a4f4",
   "metadata": {},
   "outputs": [
    {
     "name": "stdout",
     "output_type": "stream",
     "text": [
      "accuracy:  0.9725388601036269\n",
      "Extra Trees recall score:= 0.9689119170984456\n"
     ]
    }
   ],
   "source": [
    "print('accuracy: ', accuracy_score(y_test_s, pred))\n",
    "print('Extra Trees recall score:= {}'.format(recall_score(y_test_s, pred, average='binary')))\n",
    "pred_scores.append(('Extra Trees', recall_score(y_test_s, pred)))"
   ]
  },
  {
   "cell_type": "markdown",
   "id": "75eb372b",
   "metadata": {},
   "source": [
    "# Comparing Recall scores"
   ]
  },
  {
   "cell_type": "code",
   "execution_count": 151,
   "id": "f7678d7d",
   "metadata": {},
   "outputs": [],
   "source": [
    "df1 = pd.DataFrame(pred_scores, columns=[\"Algorithm\",\"Recall Scores\"])"
   ]
  },
  {
   "cell_type": "code",
   "execution_count": 152,
   "id": "e941c5e8",
   "metadata": {},
   "outputs": [
    {
     "name": "stdout",
     "output_type": "stream",
     "text": [
      "       Algorithm  Recall Scores\n",
      "0    Naive Bayes       0.974093\n",
      "1            KNN       0.768912\n",
      "2            SVM       0.927461\n",
      "3  Random Forest       0.968912\n",
      "4  Decision Tree       0.935751\n",
      "5  Logistic Reg.       0.933679\n",
      "6       AdaBoost       0.955440\n",
      "7        Bagging       0.968912\n",
      "8    Extra Trees       0.968912\n"
     ]
    }
   ],
   "source": [
    "print(df1)"
   ]
  },
  {
   "cell_type": "code",
   "execution_count": 161,
   "id": "b9ee6767",
   "metadata": {},
   "outputs": [
    {
     "data": {
      "image/png": "[encoded data removed]",
      "text/plain": [
       "<Figure size 720x360 with 1 Axes>"
      ]
     },
     "metadata": {
      "needs_background": "light"
     },
     "output_type": "display_data"
    }
   ],
   "source": [
    "import matplotlib.pyplot as plt\n",
    "df1.plot( x= \"Algorithm\", y = \"Recall Scores\",kind = \"bar\", figsize=(10,5), colormap=\"Accent\", ylim=(0.7,1.0))\n",
    "plt.ylabel('Recall Score')\n",
    "plt.title('Distribution by Classifier')\n",
    "plt.legend(bbox_to_anchor=(1.05, 1), loc=2, borderaxespad=0.)\n",
    "plt.show()"
   ]
  },
  {
   "cell_type": "code",
   "execution_count": null,
   "id": "7563e4f0",
   "metadata": {},
   "outputs": [],
   "source": []
  }
 ],
 "metadata": {
  "kernelspec": {
   "display_name": "Python 3 (ipykernel)",
   "language": "python",
   "name": "python3"
  },
  "language_info": {
   "codemirror_mode": {
    "name": "ipython",
    "version": 3
   },
   "file_extension": ".py",
   "mimetype": "text/x-python",
   "name": "python",
   "nbconvert_exporter": "python",
   "pygments_lexer": "ipython3",
   "version": "3.9.7"
  }
 },
 "nbformat": 4,
 "nbformat_minor": 5
}
